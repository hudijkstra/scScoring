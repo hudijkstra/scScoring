{
 "cells": [
  {
   "cell_type": "markdown",
   "metadata": {},
   "source": [
    "<H3>GWAS data subsetting (DEPRECATED)</h3>\n",
    "This notebook contains code for investigating and retrieving data from a GWAS catalog associations file available for download <a href=https://www.ebi.ac.uk/gwas/docs/file-downloads>here</a>. This notebook was created for gwas_catalog_v1.0.2.<br>\n",
    "A description of column headers can be found <a href=https://www.ebi.ac.uk/gwas/docs/fileheaders#_file_headers_for_catalog_version_1_0_1>here</a>.<br>\n",
    "\n",
    "Traits of interest for this investigation are the following:\n",
    " -\tHeight (negative control)\n",
    " -\tSLE autoimmune disease\n",
    " -\tType I diabetes mellitus\n",
    "\n",
    "\n"
   ]
  },
  {
   "cell_type": "code",
   "execution_count": 1,
   "metadata": {},
   "outputs": [],
   "source": [
    "# Imports\n",
    "import pandas as pd\n",
    "import numpy as np\n",
    "from pathlib import Path\n",
    "import re"
   ]
  },
  {
   "cell_type": "code",
   "execution_count": 2,
   "metadata": {},
   "outputs": [],
   "source": [
    "DATA_DIR = Path(\"../Data/GWAS\")\n",
    "MAGMA_DIR = Path(\"../Data/MAGMA\")\n",
    "ATAC_DIR = Path(\"../Data/ATAC\")\n",
    "GWAS_ASSO_FILE = \"gwas_catalog_v1.0.2-associations_e113_r2025-01-30.tsv\"\n",
    "\n",
    "\n",
    "TRAITS = {\n",
    "    \"T1D\" : \"type 1 diabetes mellitus\", \n",
    "    \"SLE\" : \"systemic lupus erythematosus\", \n",
    "    \"Height\": \"body height\" \n",
    "}"
   ]
  },
  {
   "cell_type": "code",
   "execution_count": 3,
   "metadata": {},
   "outputs": [
    {
     "name": "stderr",
     "output_type": "stream",
     "text": [
      "C:\\Users\\hesse\\AppData\\Local\\Temp\\ipykernel_25580\\831705303.py:2: DtypeWarning: Columns (9,11,12,13,23,26) have mixed types. Specify dtype option on import or set low_memory=False.\n",
      "  GWAS_data = pd.read_csv(DATA_DIR / GWAS_ASSO_FILE, sep=\"\\t\")\n"
     ]
    }
   ],
   "source": [
    "# Read GWAS associations file\n",
    "GWAS_data = pd.read_csv(DATA_DIR / GWAS_ASSO_FILE, sep=\"\\t\")"
   ]
  },
  {
   "cell_type": "code",
   "execution_count": 4,
   "metadata": {},
   "outputs": [
    {
     "data": {
      "text/plain": [
       "Index(['DATE ADDED TO CATALOG', 'PUBMEDID', 'FIRST AUTHOR', 'DATE', 'JOURNAL',\n",
       "       'LINK', 'STUDY', 'DISEASE/TRAIT', 'INITIAL SAMPLE SIZE',\n",
       "       'REPLICATION SAMPLE SIZE', 'REGION', 'CHR_ID', 'CHR_POS',\n",
       "       'REPORTED GENE(S)', 'MAPPED_GENE', 'UPSTREAM_GENE_ID',\n",
       "       'DOWNSTREAM_GENE_ID', 'SNP_GENE_IDS', 'UPSTREAM_GENE_DISTANCE',\n",
       "       'DOWNSTREAM_GENE_DISTANCE', 'STRONGEST SNP-RISK ALLELE', 'SNPS',\n",
       "       'MERGED', 'SNP_ID_CURRENT', 'CONTEXT', 'INTERGENIC',\n",
       "       'RISK ALLELE FREQUENCY', 'P-VALUE', 'PVALUE_MLOG', 'P-VALUE (TEXT)',\n",
       "       'OR or BETA', '95% CI (TEXT)', 'PLATFORM [SNPS PASSING QC]', 'CNV',\n",
       "       'MAPPED_TRAIT', 'MAPPED_TRAIT_URI', 'STUDY ACCESSION',\n",
       "       'GENOTYPING TECHNOLOGY'],\n",
       "      dtype='object')"
      ]
     },
     "execution_count": 4,
     "metadata": {},
     "output_type": "execute_result"
    }
   ],
   "source": [
    "# Available data\n",
    "GWAS_data.keys()"
   ]
  },
  {
   "cell_type": "code",
   "execution_count": 5,
   "metadata": {},
   "outputs": [
    {
     "name": "stdout",
     "output_type": "stream",
     "text": [
      "\u001b[1mtype 1 diabetes mellitus traits:\u001b[0m \n",
      "type 1 diabetes mellitus\n",
      "urinary albumin excretion rate, type 1 diabetes mellitus\n",
      "autoimmune thyroid disease, systemic lupus erythematosus, type 1 diabetes mellitus, ankylosing spondylitis, psoriasis, common variable immunodeficiency, celiac disease, ulcerative colitis, Crohn's disease, autoimmune disease, juvenile idiopathic arthritis\n",
      "autoimmune thyroid disease, systemic lupus erythematosus, type 1 diabetes mellitus, psoriasis, ankylosing spondylitis, common variable immunodeficiency, celiac disease, ulcerative colitis, Crohn's disease, autoimmune disease, juvenile idiopathic arthritis\n",
      "disease free survival, type 1 diabetes mellitus\n",
      "event free survival time, type 1 diabetes mellitus, autoantibody measurement\n",
      "autoimmune thyroid disease, type 1 diabetes mellitus\n",
      "age at diagnosis, type 1 diabetes mellitus\n",
      "type 1 diabetes mellitus, latent autoimmune diabetes in adults\n",
      "age of onset of type 1 diabetes mellitus\n",
      "migraine disorder, type 1 diabetes mellitus\n",
      "Headache, type 1 diabetes mellitus\n",
      "type 1 diabetes mellitus, chronic interstitial cystitis\n",
      "rheumatoid arthritis, type 1 diabetes mellitus\n",
      "\n",
      "\u001b[1msystemic lupus erythematosus traits:\u001b[0m \n",
      "systemic lupus erythematosus\n",
      "neonatal systemic lupus erythematosus\n",
      "autoimmune thyroid disease, systemic lupus erythematosus, type 1 diabetes mellitus, ankylosing spondylitis, psoriasis, common variable immunodeficiency, celiac disease, ulcerative colitis, Crohn's disease, autoimmune disease, juvenile idiopathic arthritis\n",
      "autoimmune thyroid disease, systemic lupus erythematosus, type 1 diabetes mellitus, psoriasis, ankylosing spondylitis, common variable immunodeficiency, celiac disease, ulcerative colitis, Crohn's disease, autoimmune disease, juvenile idiopathic arthritis\n",
      "systemic lupus erythematosus, age at onset\n",
      "systemic lupus erythematosus, chronic lymphocytic leukemia\n",
      "diffuse large B-cell lymphoma, systemic lupus erythematosus\n",
      "marginal zone B-cell lymphoma, systemic lupus erythematosus\n",
      "systemic scleroderma, rheumatoid arthritis, myositis, systemic lupus erythematosus\n",
      "systemic scleroderma, systemic lupus erythematosus\n",
      "rheumatoid arthritis, systemic lupus erythematosus\n",
      "response to steroid, systemic lupus erythematosus, idiopathic osteonecrosis of the femoral head\n",
      "systemic lupus erythematosus, COVID-19\n",
      "\n",
      "\u001b[1mbody height traits:\u001b[0m \n",
      "body height\n",
      "anthropometric measurement, body height\n",
      "body height at birth\n",
      "infant body height\n",
      "diastolic blood pressure, body height\n",
      "pericardial adipose tissue measurement, body weight, body height\n",
      "body weights and measures, body height\n",
      "breast carcinoma, body height\n",
      "\n"
     ]
    }
   ],
   "source": [
    "# Scanning for traits of interest:\n",
    "# -\tHeight negative control GWAS\n",
    "# -\tSLE autoimmune disease\n",
    "# -\tType I diabetes mellitus\n",
    "# There are 2 columns that can be used to identify the traits of interest: \"DISEASE/TRAIT\" and \"MAPPED_TRAIT\",\n",
    "# where the former is more specific and the latter is more general.\n",
    "\n",
    "for key, value in TRAITS.items():\n",
    "    print(f\"\\033[1m{value} traits:\\033[0m \")\n",
    "    [print(i) for i in GWAS_data.MAPPED_TRAIT[GWAS_data.MAPPED_TRAIT.str.contains(value, case=False, na=False)].unique()]\n",
    "    print()"
   ]
  },
  {
   "cell_type": "markdown",
   "metadata": {},
   "source": [
    "<h4><i>Subsetting data"
   ]
  },
  {
   "cell_type": "code",
   "execution_count": 10,
   "metadata": {},
   "outputs": [
    {
     "name": "stdout",
     "output_type": "stream",
     "text": [
      "T1D\n",
      "['10' '12' '18' '21' '1' '6' '7' '14' '16' '20' '22' '2' '4' '17' '19' 'X'\n",
      " '11' '9' '15' '13' '5' '8' '3']\n",
      "SLE\n",
      "['6' '8' '2' '7' '16' '4' '1' '5' '11' '22' '10' '12' '13' '3' '15' '20'\n",
      " 'X' '19' '9' '17' '14' '18']\n",
      "Height\n",
      "['16' '6' '5' '9' '3' '20' '15' '18' '1' '12' '17' '7' '14' '19' '2' '8'\n",
      " '13' '4' '11' '10' 'X' '21' '22' 2.0 5.0 14.0 9.0 21.0 1.0 20.0 3.0 4.0\n",
      " 19.0 16.0 17.0 22.0 6.0 8.0 11.0 12.0 15.0 13.0 18.0 7.0 10.0]\n",
      "type 1 diabetes mellitus\n",
      "Shape: (317, 38) \n",
      "\n",
      "systemic lupus erythematosus\n",
      "Shape: (904, 38) \n",
      "\n",
      "body height\n",
      "Shape: (25663, 38) \n",
      "\n"
     ]
    }
   ],
   "source": [
    "# Subset data\n",
    "trait_data = {}\n",
    "for key, value in TRAITS.items():\n",
    "    trait_subset = GWAS_data[(GWAS_data['MAPPED_TRAIT'] == value) & (GWAS_data['CHR_POS'].notna()) & (GWAS_data[\"P-VALUE\"] < 5e-8)].copy()\n",
    "    print(key)\n",
    "    print(trait_subset.CHR_ID.unique())\n",
    "    trait_subset[\"CHR_POS\"] = trait_subset[\"CHR_POS\"].astype(int)\n",
    "    trait_subset[\"CHR_ID\"] = trait_subset[\"CHR_ID\"].replace({\"X\": 23, \"Y\": 24}).astype(int)\n",
    "    trait_data[key] = trait_subset\n",
    "\n",
    "# Check data\n",
    "for trait, data in trait_data.items():\n",
    "    print(\"\".join(data[\"MAPPED_TRAIT\"].unique()))\n",
    "    print(f\"Shape: {data.shape} \\n\")\n"
   ]
  },
  {
   "cell_type": "markdown",
   "metadata": {},
   "source": [
    "There is still some discrepancy between what the amount of associations the website reports and what is seen here. For instance, T1D in the dataset used here has 664 associations (before filtering) while the website reports 896. I'm guessing this is due to the cataloge being an older version and therefore containing less associations, although its quite a decent amount less."
   ]
  },
  {
   "cell_type": "markdown",
   "metadata": {},
   "source": [
    "<h4><i>Calculating total samples per SNP"
   ]
  },
  {
   "cell_type": "code",
   "execution_count": 7,
   "metadata": {},
   "outputs": [
    {
     "name": "stdout",
     "output_type": "stream",
     "text": [
      "['16,179 European ancestry individuals'\n",
      " '7,514 European ancestry cases, 9,045 European ancestry controls']\n",
      "\n",
      "[nan\n",
      " '4,267 European ancestry cases, 4,670 European ancestry controls, 4,342 European ancestry trios from 2,319 families']\n",
      "['431 European ancestry cases, 2,155 European ancestry controls'\n",
      " '811 anti-dsDNA positive European ancestry cases, 906 anti-dsDNA negative European ancestry cases, 4,813 European ancestry controls']\n",
      "\n",
      "['447 European ancestry trios, 293 trios' nan]\n",
      "['8,097 European ancestry tall individuals, 8,099 European ancestry short individuals']\n",
      "\n",
      "['4,872 European ancestry tall individuals, 4,831 European ancestry short individuals']\n"
     ]
    }
   ],
   "source": [
    "for trait, data in trait_data.items():\n",
    "    print(data[\"INITIAL SAMPLE SIZE\"][1:10].unique())\n",
    "    print()\n",
    "    print(data[\"REPLICATION SAMPLE SIZE\"][1:10].unique())"
   ]
  },
  {
   "cell_type": "code",
   "execution_count": 8,
   "metadata": {},
   "outputs": [],
   "source": [
    "pattern = r\"(\\d{1,3}(?:,\\d{3})*)\" # Matches numbers with commas\n",
    "\n",
    "def calc_sample_size(sample_string):\n",
    "    # Finds all numbers in the string, removes commas and sums them\n",
    "    return sum(int(number.replace(',', '')) for number in re.findall(pattern, sample_string))\n",
    "\n",
    "sample_string1 = \"300 European cases,, and 250,000,100 controls from another planet, also 5 random guys\"\n",
    "sample_string2 = \"200 Asian dudes and 50 random people\"\n",
    "assert calc_sample_size(sample_string1) + calc_sample_size(sample_string2) + calc_sample_size(\"NaN\") == 250000655\n",
    "\n",
    "for trait, data in trait_data.items():\n",
    "    data[\"TOTAL_SAMPLES\"] = data.apply(\n",
    "        lambda row: calc_sample_size(str(row[\"INITIAL SAMPLE SIZE\"])) + \n",
    "                calc_sample_size(str(row[\"REPLICATION SAMPLE SIZE\"])), \n",
    "     axis=1\n",
    ")\n",
    "\n",
    "# for trait, data in trait_data.items():\n",
    "    # print(data[[\"INITIAL SAMPLE SIZE\", \"REPLICATION SAMPLE SIZE\",\"TOTAL_SAMPLES\"]].iloc[0])"
   ]
  },
  {
   "cell_type": "markdown",
   "metadata": {},
   "source": [
    "There might be a better way to get this data. Also this data is a mixture of all different kinds of cohorts, does this not matter? "
   ]
  },
  {
   "cell_type": "markdown",
   "metadata": {},
   "source": [
    "<h4><i> Writing files"
   ]
  },
  {
   "cell_type": "code",
   "execution_count": null,
   "metadata": {},
   "outputs": [
    {
     "name": "stdout",
     "output_type": "stream",
     "text": [
      "Files written successfully\n"
     ]
    }
   ],
   "source": [
    "for trait, data in trait_data.items():\n",
    "    # SNP location data file\n",
    "    data[[\"SNPS\", \"CHR_ID\", \"CHR_POS\"]].to_csv(MAGMA_DIR / \"snp_locations\" / f\"{trait}_SNPLOC.tsv\", sep=\"\\t\", index=False, header=False)\n",
    "    # SNP P-values file\n",
    "    data[[\"SNPS\", \"P-VALUE\", \"TOTAL_SAMPLES\"]].to_csv(MAGMA_DIR / \"pvals\" / f\"{trait}_PVAL.txt\", sep=\"\\t\", index=False, header=True)\n",
    "    # BED6 file\n",
    "    data[[\"CHR_ID\", \"CHR_POS\", \"CHR_POS\", \"SNPS\", \"P-VALUE\"]].to_csv(ATAC_DIR / \"bed_files\" / \"snps\" / f\"{trait}.bed\", sep=\"\\t\", index=False, header=False)\n",
    "\n",
    "print(\"Files written successfully\")"
   ]
  }
 ],
 "metadata": {
  "kernelspec": {
   "display_name": "Python 3 (ipykernel)",
   "language": "python",
   "name": "python3"
  },
  "language_info": {
   "codemirror_mode": {
    "name": "ipython",
    "version": 3
   },
   "file_extension": ".py",
   "mimetype": "text/x-python",
   "name": "python",
   "nbconvert_exporter": "python",
   "pygments_lexer": "ipython3",
   "version": "3.9.21"
  }
 },
 "nbformat": 4,
 "nbformat_minor": 4
}
