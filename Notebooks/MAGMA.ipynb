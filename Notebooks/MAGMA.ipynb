{
 "cells": [
  {
   "cell_type": "markdown",
   "metadata": {},
   "source": [
    "<h2>MAGMA trial</h2>\n",
    "This notebook was created for trial purposes. MAGMA is a stand alone tool for gene-set analyis of GWAS data:<br>\n",
    "\n",
    " de Leeuw C, Mooij J, Heskes T, Posthuma D (2015): <strong> MAGMA: Generalized gene-set analysis of GWAS data.</strong> PLoS Comput Biol 11(4): e1004219. doi:10.1371/journal.pcbi.1004219)(<a href=\"https://journals.plos.org/ploscompbiol/article?id=10.1371%2Fjournal.pcbi.1004219\" >link</a>).<br> \n",
    "\n",
    " Tool documentation can be found <a href=\"https://vu.data.surfsara.nl/index.php/s/MUiv3y1SFRePnyG\">here</a>"
   ]
  },
  {
   "cell_type": "code",
   "execution_count": 8,
   "metadata": {},
   "outputs": [
    {
     "name": "stdout",
     "output_type": "stream",
     "text": [
      "MAGMA version: v1.10 (win/s)\n",
      "\n"
     ]
    }
   ],
   "source": [
    "# Imports\n",
    "import subprocess as sp\n",
    "import pandas as pd\n",
    "from pathlib import Path\n",
    "from datetime import datetime\n",
    "import sys\n",
    "sys.path.append(\"../Src\")\n",
    "from MAGMA import run_gene_annotation, run_window_analysis, run_gene_analysis\n",
    "from file_iterator import iterate_files\n",
    "\n",
    "# Making sure MAGMA works\n",
    "result = sp.run(f\"magma --version\", shell=True, capture_output=True, text=True)\n",
    "print(result.stdout) if result.stdout else None\n",
    "print(result.stderr) if result.stderr else None"
   ]
  },
  {
   "cell_type": "code",
   "execution_count": null,
   "metadata": {},
   "outputs": [],
   "source": [
    "# Paths\n",
    "DATA_DIR = Path(\"../Data/MAGMA\")\n",
    "SCDRS_DIR = Path(\"../Data/SCDRS\")\n",
    "\n",
    "# Reference file used for p-value geen analyis. Should point to the directory containing, along with the prefix for the .bed, .bim and .fam files. \n",
    "REFERENCE = Path(\"../Data/Reference/g1000_eur/g1000_eur\")"
   ]
  },
  {
   "cell_type": "code",
   "execution_count": null,
   "metadata": {},
   "outputs": [],
   "source": [
    "# Define traits for analysis. These should be the prefixes of the files in the DATA_DIR directory.\n",
    "TRAITS = [\n",
    "    # \"SLE\", \n",
    "    # \"T1D\",\n",
    "    \"Height\",\n",
    "]    \n",
    "# Flag indicating to use open chromatine data\n",
    "FILTERED = True"
   ]
  },
  {
   "cell_type": "markdown",
   "metadata": {},
   "source": [
    "The gene location file must contain at least four columns, in this order: (1) **gene ID**, (2) **chromosome**, (3) **start site**, (4) **stop site**.<br> \n",
    "Optionally the strand of the gene can be included in a fifth column as well, though this is only used when annotating with an asymmetrical gene window."
   ]
  },
  {
   "cell_type": "markdown",
   "metadata": {},
   "source": [
    "<H3> <b>1. Gene annotation</b></H3>\n",
    "\n",
    "The annotation step produces an output file with the .genes.annot suffix, with each row\n",
    "corresponding to a gene, containing the **gene ID**, a specification of the **gene’s location**, and a list of **SNP\n",
    "IDs of SNPs mapped to that gene**. To include a windows use the --anntotate flag;<br>  ‘--annotate window=5,1.5’ would set a 5kb upstream and 1.5kb downstream window."
   ]
  },
  {
   "cell_type": "markdown",
   "metadata": {},
   "source": [
    "<H4><i> 1.1 Gene window analysis </i></H4>\n",
    "This script performs gene annotation window analysis by mapping SNPs to genes using adjustable window sizes. It iterates through SNP location files for specific traits, runs the MAGMA tool to perform the annotation for each window size, and collects results on the number of mapped SNPs and genes. The results are stored in a DataFrame and displayed for each trait. The window sizes (e.g., \"0,0\", \"2,0.5\", \"20,5\", \"200,50\") are customizable, allowing for flexible analysis of SNP-gene associations. Temporary files are deleted after the analysis."
   ]
  },
  {
   "cell_type": "code",
   "execution_count": null,
   "metadata": {},
   "outputs": [
    {
     "data": {
      "text/html": [
       "<style type=\"text/css\">\n",
       "</style>\n",
       "<table id=\"T_7e904\">\n",
       "  <caption>Annotation results for SLE</caption>\n",
       "  <thead>\n",
       "    <tr>\n",
       "      <th class=\"blank level0\" >&nbsp;</th>\n",
       "      <th id=\"T_7e904_level0_col0\" class=\"col_heading level0 col0\" >Window size</th>\n",
       "      <th id=\"T_7e904_level0_col1\" class=\"col_heading level0 col1\" >Mapped SNPs</th>\n",
       "      <th id=\"T_7e904_level0_col2\" class=\"col_heading level0 col2\" >Mapped genes</th>\n",
       "    </tr>\n",
       "  </thead>\n",
       "  <tbody>\n",
       "    <tr>\n",
       "      <th id=\"T_7e904_level0_row0\" class=\"row_heading level0 row0\" >0</th>\n",
       "      <td id=\"T_7e904_row0_col0\" class=\"data row0 col0\" >0,0</td>\n",
       "      <td id=\"T_7e904_row0_col1\" class=\"data row0 col1\" >591 (65.38%)</td>\n",
       "      <td id=\"T_7e904_row0_col2\" class=\"data row0 col2\" >288 genes (out of 33461)</td>\n",
       "    </tr>\n",
       "    <tr>\n",
       "      <th id=\"T_7e904_level0_row1\" class=\"row_heading level0 row1\" >1</th>\n",
       "      <td id=\"T_7e904_row1_col0\" class=\"data row1 col0\" >2,0.5</td>\n",
       "      <td id=\"T_7e904_row1_col1\" class=\"data row1 col1\" >641 (70.91%)</td>\n",
       "      <td id=\"T_7e904_row1_col2\" class=\"data row1 col2\" >323 genes (out of 33461)</td>\n",
       "    </tr>\n",
       "    <tr>\n",
       "      <th id=\"T_7e904_level0_row2\" class=\"row_heading level0 row2\" >2</th>\n",
       "      <td id=\"T_7e904_row2_col0\" class=\"data row2 col0\" >20,5</td>\n",
       "      <td id=\"T_7e904_row2_col1\" class=\"data row2 col1\" >769 (85.07%)</td>\n",
       "      <td id=\"T_7e904_row2_col2\" class=\"data row2 col2\" >518 genes (out of 33461)</td>\n",
       "    </tr>\n",
       "    <tr>\n",
       "      <th id=\"T_7e904_level0_row3\" class=\"row_heading level0 row3\" >3</th>\n",
       "      <td id=\"T_7e904_row3_col0\" class=\"data row3 col0\" >200,50</td>\n",
       "      <td id=\"T_7e904_row3_col1\" class=\"data row3 col1\" >897 (99.23%)</td>\n",
       "      <td id=\"T_7e904_row3_col2\" class=\"data row3 col2\" >1749 genes (out of 33461)</td>\n",
       "    </tr>\n",
       "  </tbody>\n",
       "</table>\n"
      ],
      "text/plain": [
       "<pandas.io.formats.style.Styler at 0x17ffca83e20>"
      ]
     },
     "metadata": {},
     "output_type": "display_data"
    },
    {
     "name": "stdout",
     "output_type": "stream",
     "text": [
      "=======================================================\n"
     ]
    },
    {
     "data": {
      "text/html": [
       "<style type=\"text/css\">\n",
       "</style>\n",
       "<table id=\"T_b782c\">\n",
       "  <caption>Annotation results for T1D</caption>\n",
       "  <thead>\n",
       "    <tr>\n",
       "      <th class=\"blank level0\" >&nbsp;</th>\n",
       "      <th id=\"T_b782c_level0_col0\" class=\"col_heading level0 col0\" >Window size</th>\n",
       "      <th id=\"T_b782c_level0_col1\" class=\"col_heading level0 col1\" >Mapped SNPs</th>\n",
       "      <th id=\"T_b782c_level0_col2\" class=\"col_heading level0 col2\" >Mapped genes</th>\n",
       "    </tr>\n",
       "  </thead>\n",
       "  <tbody>\n",
       "    <tr>\n",
       "      <th id=\"T_b782c_level0_row0\" class=\"row_heading level0 row0\" >0</th>\n",
       "      <td id=\"T_b782c_row0_col0\" class=\"data row0 col0\" >0,0</td>\n",
       "      <td id=\"T_b782c_row0_col1\" class=\"data row0 col1\" >205 (64.67%)</td>\n",
       "      <td id=\"T_b782c_row0_col2\" class=\"data row0 col2\" >113 genes (out of 33461)</td>\n",
       "    </tr>\n",
       "    <tr>\n",
       "      <th id=\"T_b782c_level0_row1\" class=\"row_heading level0 row1\" >1</th>\n",
       "      <td id=\"T_b782c_row1_col0\" class=\"data row1 col0\" >2,0.5</td>\n",
       "      <td id=\"T_b782c_row1_col1\" class=\"data row1 col1\" >243 (76.66%)</td>\n",
       "      <td id=\"T_b782c_row1_col2\" class=\"data row1 col2\" >125 genes (out of 33461)</td>\n",
       "    </tr>\n",
       "    <tr>\n",
       "      <th id=\"T_b782c_level0_row2\" class=\"row_heading level0 row2\" >2</th>\n",
       "      <td id=\"T_b782c_row2_col0\" class=\"data row2 col0\" >20,5</td>\n",
       "      <td id=\"T_b782c_row2_col1\" class=\"data row2 col1\" >278 (87.7%)</td>\n",
       "      <td id=\"T_b782c_row2_col2\" class=\"data row2 col2\" >202 genes (out of 33461)</td>\n",
       "    </tr>\n",
       "    <tr>\n",
       "      <th id=\"T_b782c_level0_row3\" class=\"row_heading level0 row3\" >3</th>\n",
       "      <td id=\"T_b782c_row3_col0\" class=\"data row3 col0\" >200,50</td>\n",
       "      <td id=\"T_b782c_row3_col1\" class=\"data row3 col1\" >314 (99.05%)</td>\n",
       "      <td id=\"T_b782c_row3_col2\" class=\"data row3 col2\" >768 genes (out of 33461)</td>\n",
       "    </tr>\n",
       "  </tbody>\n",
       "</table>\n"
      ],
      "text/plain": [
       "<pandas.io.formats.style.Styler at 0x17ffca822f0>"
      ]
     },
     "metadata": {},
     "output_type": "display_data"
    },
    {
     "name": "stdout",
     "output_type": "stream",
     "text": [
      "=======================================================\n"
     ]
    }
   ],
   "source": [
    "geneloc_file = DATA_DIR / \"GENELOC.tsv\"\n",
    "window_sizes = [\"0,0\", \"2,0.5\", \"20,5\", \"200,50\"]\n",
    "\n",
    "for snploc_file, trait in iterate_files(DATA_DIR / \"snp_locations\", TRAITS, FILTERED):\n",
    "    annotation_results = run_window_analysis(\n",
    "        snploc_file=snploc_file,\n",
    "        geneloc_file=geneloc_file,\n",
    "        window_sizes=window_sizes\n",
    "    )\n",
    "    display(annotation_results.style.set_caption(f\"Annotation results for {trait}\"))\n",
    "    print(\"=\" * 55)\n"
   ]
  },
  {
   "cell_type": "markdown",
   "metadata": {},
   "source": [
    "<h4><i>1.2 Writing genes.anno files</h4></i>"
   ]
  },
  {
   "cell_type": "code",
   "execution_count": 12,
   "metadata": {},
   "outputs": [
    {
     "name": "stdout",
     "output_type": "stream",
     "text": [
      "Processing trait: SLE...\n",
      "Welcome to MAGMA v1.10 (win/s)\n",
      "Using flags:\n",
      "\t--annotate window=20,5\n",
      "\t--snp-loc ..\\Data\\MAGMA\\snp_locations\\SLE_SNPLOC.tsv\n",
      "\t--gene-loc ..\\Data\\MAGMA\\GENELOC.tsv\n",
      "\t--out ..\\Data\\MAGMA\\gene_annotations\\SLE\n",
      "\n",
      "Start time is 11:51:11, Saturday 22 Feb 2025\n",
      "\n",
      "Starting annotation...\n",
      "Reading gene locations from file ..\\Data\\MAGMA\\GENELOC.tsv... \n",
      "\tadding window: 20000bp (before), 5000bp (after)\n",
      "\tWARNING: no valid strand column found, assuming positive strand for all genes\n",
      "\t33461 gene locations read from file\n",
      "\tchromosome  1: 3150 genes\n",
      "\tchromosome  2: 2281 genes\n",
      "\tchromosome  3: 1709 genes\n",
      "\tchromosome  4: 1353 genes\n",
      "\tchromosome  5: 1659 genes\n",
      "\tchromosome  6: 1630 genes\n",
      "\tchromosome  7: 1535 genes\n",
      "\tchromosome  8: 1318 genes\n",
      "\tchromosome  9: 1226 genes\n",
      "\tchromosome 10: 1228 genes\n",
      "\tchromosome 11: 1919 genes\n",
      "\tchromosome 12: 1761 genes\n",
      "\tchromosome 13: 666 genes\n",
      "\tchromosome 14: 1385 genes\n",
      "\tchromosome 15: 1133 genes\n",
      "\tchromosome 16: 1529 genes\n",
      "\tchromosome 17: 1894 genes\n",
      "\tchromosome 18: 662 genes\n",
      "\tchromosome 19: 2004 genes\n",
      "\tchromosome 20: 895 genes\n",
      "\tchromosome 21: 500 genes\n",
      "\tchromosome 22: 835 genes\n",
      "\tchromosome  X: 1076 genes\n",
      "\tchromosome  Y: 100 genes\n",
      "\tchromosome MT: 13 genes\n",
      "Reading SNP locations from file ..\\Data\\MAGMA\\snp_locations\\SLE_SNPLOC.tsv... \n",
      "                                                                                                 \n",
      "\t904 SNP locations read from file\n",
      "\tof those, 769 (85.07%) mapped to at least one gene\n",
      "Writing annotation to file ..\\Data\\MAGMA\\gene_annotations\\SLE.genes.annot.txt\n",
      "\tfor chromosome  1, 3095 genes are empty (out of 3150)\n",
      "\tfor chromosome  2, 2250 genes are empty (out of 2281)\n",
      "\tfor chromosome  3, 1681 genes are empty (out of 1709)\n",
      "\tfor chromosome  4, 1336 genes are empty (out of 1353)\n",
      "\tfor chromosome  5, 1639 genes are empty (out of 1659)\n",
      "\tfor chromosome  6, 1530 genes are empty (out of 1630)\n",
      "\tfor chromosome  7, 1514 genes are empty (out of 1535)\n",
      "\tfor chromosome  8, 1297 genes are empty (out of 1318)\n",
      "\tfor chromosome  9, 1222 genes are empty (out of 1226)\n",
      "\tfor chromosome 10, 1207 genes are empty (out of 1228)\n",
      "\tfor chromosome 11, 1886 genes are empty (out of 1919)\n",
      "\tfor chromosome 12, 1741 genes are empty (out of 1761)\n",
      "\tfor chromosome 13, 663 genes are empty (out of 666)\n",
      "\tfor chromosome 14, 1380 genes are empty (out of 1385)\n",
      "\tfor chromosome 15, 1123 genes are empty (out of 1133)\n",
      "\tfor chromosome 16, 1496 genes are empty (out of 1529)\n",
      "\tfor chromosome 17, 1865 genes are empty (out of 1894)\n",
      "\tfor chromosome 18, 659 genes are empty (out of 662)\n",
      "\tfor chromosome 19, 1963 genes are empty (out of 2004)\n",
      "\tfor chromosome 20, 889 genes are empty (out of 895)\n",
      "\tfor chromosome 21, 500 genes are empty (out of 500)\n",
      "\tfor chromosome 22, 827 genes are empty (out of 835)\n",
      "\tfor chromosome  X, 1067 genes are empty (out of 1076)\n",
      "\tfor chromosome  Y, 100 genes are empty (out of 100)\n",
      "\tfor chromosome MT, 13 genes are empty (out of 13)\n",
      "\tat least one SNP mapped to each of a total of 518 genes (out of 33461)\n",
      "\n",
      "\n",
      "End time is 11:51:12, Saturday 22 Feb 2025 (elapsed: 00:00:01)\n",
      "\n",
      "==========================================================================================\n",
      "Processing trait: T1D...\n",
      "Welcome to MAGMA v1.10 (win/s)\n",
      "Using flags:\n",
      "\t--annotate window=20,5\n",
      "\t--snp-loc ..\\Data\\MAGMA\\snp_locations\\T1D_SNPLOC.tsv\n",
      "\t--gene-loc ..\\Data\\MAGMA\\GENELOC.tsv\n",
      "\t--out ..\\Data\\MAGMA\\gene_annotations\\T1D\n",
      "\n",
      "Start time is 11:51:12, Saturday 22 Feb 2025\n",
      "\n",
      "Starting annotation...\n",
      "Reading gene locations from file ..\\Data\\MAGMA\\GENELOC.tsv... \n",
      "\tadding window: 20000bp (before), 5000bp (after)\n",
      "\tWARNING: no valid strand column found, assuming positive strand for all genes\n",
      "\t33461 gene locations read from file\n",
      "\tchromosome  1: 3150 genes\n",
      "\tchromosome  2: 2281 genes\n",
      "\tchromosome  3: 1709 genes\n",
      "\tchromosome  4: 1353 genes\n",
      "\tchromosome  5: 1659 genes\n",
      "\tchromosome  6: 1630 genes\n",
      "\tchromosome  7: 1535 genes\n",
      "\tchromosome  8: 1318 genes\n",
      "\tchromosome  9: 1226 genes\n",
      "\tchromosome 10: 1228 genes\n",
      "\tchromosome 11: 1919 genes\n",
      "\tchromosome 12: 1761 genes\n",
      "\tchromosome 13: 666 genes\n",
      "\tchromosome 14: 1385 genes\n",
      "\tchromosome 15: 1133 genes\n",
      "\tchromosome 16: 1529 genes\n",
      "\tchromosome 17: 1894 genes\n",
      "\tchromosome 18: 662 genes\n",
      "\tchromosome 19: 2004 genes\n",
      "\tchromosome 20: 895 genes\n",
      "\tchromosome 21: 500 genes\n",
      "\tchromosome 22: 835 genes\n",
      "\tchromosome  X: 1076 genes\n",
      "\tchromosome  Y: 100 genes\n",
      "\tchromosome MT: 13 genes\n",
      "Reading SNP locations from file ..\\Data\\MAGMA\\snp_locations\\T1D_SNPLOC.tsv... \n",
      "                                                                                                 \n",
      "\t317 SNP locations read from file\n",
      "\tof those, 278 (87.7%) mapped to at least one gene\n",
      "Writing annotation to file ..\\Data\\MAGMA\\gene_annotations\\T1D.genes.annot.txt\n",
      "\tfor chromosome  1, 3128 genes are empty (out of 3150)\n",
      "\tfor chromosome  2, 2269 genes are empty (out of 2281)\n",
      "\tfor chromosome  3, 1708 genes are empty (out of 1709)\n",
      "\tfor chromosome  4, 1343 genes are empty (out of 1353)\n",
      "\tfor chromosome  5, 1652 genes are empty (out of 1659)\n",
      "\tfor chromosome  6, 1616 genes are empty (out of 1630)\n",
      "\tfor chromosome  7, 1527 genes are empty (out of 1535)\n",
      "\tfor chromosome  8, 1313 genes are empty (out of 1318)\n",
      "\tfor chromosome  9, 1220 genes are empty (out of 1226)\n",
      "\tfor chromosome 10, 1222 genes are empty (out of 1228)\n",
      "\tfor chromosome 11, 1903 genes are empty (out of 1919)\n",
      "\tfor chromosome 12, 1738 genes are empty (out of 1761)\n",
      "\tfor chromosome 13, 662 genes are empty (out of 666)\n",
      "\tfor chromosome 14, 1377 genes are empty (out of 1385)\n",
      "\tfor chromosome 15, 1130 genes are empty (out of 1133)\n",
      "\tfor chromosome 16, 1511 genes are empty (out of 1529)\n",
      "\tfor chromosome 17, 1878 genes are empty (out of 1894)\n",
      "\tfor chromosome 18, 658 genes are empty (out of 662)\n",
      "\tfor chromosome 19, 1998 genes are empty (out of 2004)\n",
      "\tfor chromosome 20, 893 genes are empty (out of 895)\n",
      "\tfor chromosome 21, 494 genes are empty (out of 500)\n",
      "\tfor chromosome 22, 831 genes are empty (out of 835)\n",
      "\tfor chromosome  X, 1075 genes are empty (out of 1076)\n",
      "\tfor chromosome  Y, 100 genes are empty (out of 100)\n",
      "\tfor chromosome MT, 13 genes are empty (out of 13)\n",
      "\tat least one SNP mapped to each of a total of 202 genes (out of 33461)\n",
      "\n",
      "\n",
      "End time is 11:51:12, Saturday 22 Feb 2025 (elapsed: 00:00:00)\n",
      "\n",
      "==========================================================================================\n",
      "Done\n"
     ]
    }
   ],
   "source": [
    "window = \"20,5\"\n",
    "snp_dir = DATA_DIR / \"snp_locations\" / \"open_chromatine\" if FILTERED else DATA_DIR / \"snp_locations\" \n",
    "\n",
    "for snploc_file, trait in iterate_files(snp_dir, TRAITS, FILTERED):\n",
    "    out_file = DATA_DIR / \"gene_annotations\" / trait\n",
    "\n",
    "    print(f\"Processing trait: {trait}...\")\n",
    "    result = run_gene_annotation(window=window, \n",
    "                                snploc_file=snploc_file,\n",
    "                                geneloc_file=DATA_DIR / \"GENELOC.tsv\", \n",
    "                                out_file=out_file)\n",
    "    print(result)\n",
    "    print(\"=\" * 90)\n",
    "print(\"Done\")"
   ]
  },
  {
   "cell_type": "markdown",
   "metadata": {},
   "source": [
    "<H4><i>1.3 Gene analysis on SNP p-value data</i></h4>\n",
    "Requires a binary PLINK format data set, consisting of a .bed, .bim and .fam trio of files. <br>\n",
    "genotype data specified by --bfile is used to specify the reference data used to estimate LD between SNPs; <br> \n",
    "any phenotype contained in that data is ignored. (reference files can be downloaded <a href=\"https://cncr.nl/research/magma/\">here</a>) <br>\n",
    "\n",
    "Only the file prefix needs to be specified for the --bfile flag.\n",
    "\n",
    "For gene analysis on raw genotype data the commmand: <b>magma --bfile [DATA] --gene-annot [ANNOT].genes.annot --out [OUTPUT_PREFIX]</b> can be used. <br>\n",
    "In this case --bfile refers to the genotype data. \n",
    "\n"
   ]
  },
  {
   "cell_type": "code",
   "execution_count": 18,
   "metadata": {},
   "outputs": [
    {
     "name": "stdout",
     "output_type": "stream",
     "text": [
      "Processing trait: T1D_OC...\n",
      "T1D_OC  Welcome to MAGMA v1.10 (win/s)\n",
      "T1D_OC  Using flags:\n",
      "T1D_OC  \t--bfile ..\\Data\\Reference\\g1000_eur\\g1000_eur\n",
      "T1D_OC  \t--gene-annot ..\\Data\\MAGMA\\gene_annotations\\T1D_OC.genes.annot.txt\n",
      "T1D_OC  \t--pval ..\\Data\\MAGMA\\pvals\\T1D_PVAL.txt use=1,2 ncol=TOTAL_SAMPLES\n",
      "T1D_OC  \t--out ..\\Data\\MAGMA\\gene_analysis\\2025-02-22_14-22\\T1D_OC\n",
      "T1D_OC  \n",
      "T1D_OC  Start time is 14:22:46, Saturday 22 Feb 2025\n",
      "T1D_OC  \n",
      "T1D_OC  Loading PLINK-format data...\n",
      "T1D_OC  Reading file ..\\Data\\Reference\\g1000_eur\\g1000_eur.fam... 503 individuals read\n",
      "T1D_OC  Reading file ..\\Data\\Reference\\g1000_eur\\g1000_eur.bim... 22665064 SNPs read\n",
      "T1D_OC  Preparing file ..\\Data\\Reference\\g1000_eur\\g1000_eur.bed... \n",
      "T1D_OC  \n",
      "T1D_OC  Reading SNP synonyms from file ..\\Data\\Reference\\g1000_eur\\g1000_eur.synonyms (auto-detected)\n",
      "T1D_OC  \tread 6016767 mapped synonyms from file, mapping to 3921040 SNPs in the data\n",
      "T1D_OC  \tWARNING: detected 133 synonymous SNP pairs in the data\n",
      "T1D_OC  \t         skipped all synonym entries involved, synonymous SNPs are kept in analysis\n",
      "T1D_OC  \t         writing list of detected synonyms in data to supplementary log file\n",
      "T1D_OC  Reading SNP p-values from file ..\\Data\\MAGMA\\pvals\\T1D_PVAL.txt... \n",
      "T1D_OC  \tdetected 3 variables in file\n",
      "T1D_OC  \tusing variable: SNPS (SNP id)\n",
      "T1D_OC  \tusing variable: P-VALUE (p-value)\n",
      "T1D_OC  \tusing variable: TOTAL_SAMPLES (sample size; discarding SNPs with N < 50)\n",
      "T1D_OC  \tread 318 lines from file, containing valid SNP p-values for 136 SNPs in data (42.77% of lines, 0.0006% of SNPs in data)\n",
      "T1D_OC  \tWARNING: file contained 66 SNPs (same IDs or synonyms) with duplications\n",
      "T1D_OC  \t         dropped all occurrences of each from analysis\n",
      "T1D_OC  \t         writing list of duplicated IDs to supplementary log file\n",
      "T1D_OC  Loading gene annotation from file ..\\Data\\MAGMA\\gene_annotations\\T1D_OC.genes.annot.txt... \n",
      "T1D_OC  \t114 gene definitions read from file\n",
      "T1D_OC  \tfound 75 genes containing valid SNPs in genotype data\n",
      "T1D_OC  \n",
      "T1D_OC  \n",
      "T1D_OC  Starting gene analysis... \n",
      "T1D_OC  \tusing model: SNPwise-mean\n",
      "T1D_OC  \tprocessed genes: 14 (18.7%)     \n",
      "T1D_OC  \tprocessed genes: 15 (20%)     \n",
      "T1D_OC  \tprocessed genes: 16 (21.3%)     \n",
      "T1D_OC  \tprocessed genes: 23 (30.7%)     \n",
      "T1D_OC  \tprocessed genes: 25 (33.3%)     \n",
      "T1D_OC  \tprocessed genes: 27 (36%)     \n",
      "T1D_OC  \tprocessed genes: 28 (37.3%)     \n",
      "T1D_OC  \tprocessed genes: 29 (38.7%)     \n",
      "T1D_OC  \tprocessed genes: 33 (44%)     \n",
      "T1D_OC  \tprocessed genes: 43 (57.3%)     \n",
      "T1D_OC  \tprocessed genes: 44 (58.7%)     \n",
      "T1D_OC  \tprocessed genes: 45 (60%)     \n",
      "T1D_OC  \tprocessed genes: 47 (62.7%)     \n",
      "T1D_OC  \tprocessed genes: 58 (77.3%)     \n",
      "T1D_OC  \tprocessed genes: 59 (78.7%)     \n",
      "T1D_OC  \tprocessed genes: 72 (96%)     \n",
      "T1D_OC                                                                                                                     \n",
      "T1D_OC  \twriting gene analysis results to file ..\\Data\\MAGMA\\gene_analysis\\2025-02-22_14-22\\T1D_OC.genes.out.txt\n",
      "T1D_OC  \twriting intermediate output to file ..\\Data\\MAGMA\\gene_analysis\\2025-02-22_14-22\\T1D_OC.genes.raw\n",
      "T1D_OC  \n",
      "T1D_OC  \n",
      "T1D_OC  End time is 14:41:00, Saturday 22 Feb 2025 (elapsed: 00:18:14)\n"
     ]
    }
   ],
   "source": [
    "\n",
    "run_dir = DATA_DIR / \"gene_analysis\" / datetime.now().strftime(\"%Y-%m-%d_%H-%M\")\n",
    "run_dir.mkdir(exist_ok=True)\n",
    "\n",
    "for pval_file, trait in iterate_files(DATA_DIR / \"pvals\", TRAITS, FILTERED):\n",
    "    gene_anno_file = DATA_DIR / \"gene_annotations\" / f\"{trait}.genes.annot.txt\"\n",
    "    out_file = run_dir / trait\n",
    "\n",
    "    print(f\"Processing trait: {trait}...\")\n",
    "    run_gene_analysis(pval_file=pval_file, out_file=out_file, reference=REFERENCE, gene_anno_file=gene_anno_file, trait=trait)"
   ]
  },
  {
   "cell_type": "markdown",
   "metadata": {},
   "source": [
    "NOTE: Running the command in the shell directly is slightly faster. For very large data files this might save a decent amount of time. <br>\n",
    "Moreover, only 14%(1 core likely) of my cpu and ~160-450mb of memory gets used(either in shell or in python), so running multiple instances of the command in parallel <br>\n",
    "or looking into batch options might be a good idea.<br>\n",
    "T1D 75 genes 12.53 py - 12.33 sh<br>\n",
    "SLE 252 genes 54:50  py - 52:52 sh"
   ]
  },
  {
   "cell_type": "markdown",
   "metadata": {},
   "source": [
    "<h4><i> 1.4 Formatting and writing genset file </h4></i>"
   ]
  },
  {
   "cell_type": "code",
   "execution_count": null,
   "metadata": {},
   "outputs": [
    {
     "name": "stdout",
     "output_type": "stream",
     "text": [
      "Geneset written to ..\\Data\\SCDRS\\genesets\\GS_T1D_OC_W20,5.gs\n"
     ]
    }
   ],
   "source": [
    "# TODO: Maybe look at file formatting for _OC, maintaining the _{suffix} might be nice for other modes though.\n",
    "# Write scDRS gene set file\n",
    "results_dir = run_dir\n",
    "valid_traits = []\n",
    "gene_set_data = {}\n",
    "\n",
    "# Read Gene Analysis results and store gene scores\n",
    "for file in results_dir.iterdir():\n",
    "    if file.is_file() and file.name.endswith(\"genes.out.txt\"):\n",
    "        \n",
    "        trait = file.name.split(\".\")[0]\n",
    "        if trait in TRAITS or [trait.split(\"_\")[0] for trait in TRAITS]:\n",
    "            valid_traits.append(trait)\n",
    "            \n",
    "            with open(file, \"r\") as f:\n",
    "                f.readline() # skip header\n",
    "                for line in f:\n",
    "                    line = line.split()\n",
    "                    gene_score = f\"{line[0]}:{line[7]}\" # line[0] is gene name, line[7] is z-score\n",
    "                    \n",
    "                    if trait not in gene_set_data:\n",
    "                        gene_set_data[trait] = gene_score \n",
    "                    else:\n",
    "                        gene_set_data[trait] += \",\" + gene_score\n",
    "\n",
    "gene_set_file = SCDRS_DIR / \"genesets\" / f\"GS_{'-'.join(valid_traits)}_W{window}.gs\"\n",
    "pd.DataFrame(list(gene_set_data.items()), columns=[\"TRAIT\", \"GENESET\"]).to_csv(gene_set_file, sep=\"\\t\", index=False)\n",
    "print(f\"Geneset written to {gene_set_file}\")"
   ]
  },
  {
   "cell_type": "code",
   "execution_count": null,
   "metadata": {},
   "outputs": [],
   "source": []
  }
 ],
 "metadata": {
  "kernelspec": {
   "display_name": "Python 3 (ipykernel)",
   "language": "python",
   "name": "python3"
  },
  "language_info": {
   "codemirror_mode": {
    "name": "ipython",
    "version": 3
   },
   "file_extension": ".py",
   "mimetype": "text/x-python",
   "name": "python",
   "nbconvert_exporter": "python",
   "pygments_lexer": "ipython3",
   "version": "3.9.21"
  }
 },
 "nbformat": 4,
 "nbformat_minor": 4
}
