{
 "cells": [
  {
   "cell_type": "markdown",
   "id": "88d0cffe-f940-4c0e-b604-97f48f6553b8",
   "metadata": {},
   "source": [
    "**Code used for subsetting data to the 6 major cell types that have and have both UT and stimulated cells.**"
   ]
  },
  {
   "cell_type": "code",
   "execution_count": 1,
   "id": "91b7f3ed-7ee0-44a6-a4fa-85e843db9090",
   "metadata": {},
   "outputs": [],
   "source": [
    "import argparse\n",
    "import anndata as an\n",
    "import pandas as pd\n",
    "import scanpy as sc\n",
    "from pathlib import Path\n",
    "import random"
   ]
  },
  {
   "cell_type": "code",
   "execution_count": 2,
   "id": "e5498893-be4c-4ed9-bd86-1833d644aa03",
   "metadata": {},
   "outputs": [
    {
     "data": {
      "text/plain": [
       "AnnData object with n_obs × n_vars = 874200 × 36601\n",
       "    obs: 'cell_id', 'orig.ident', 'nCount_RNA', 'nFeature_RNA', 'barcode', 'barcode_1', 'barcode_lane', 'lane', 'batch', 'percent.mt', 'nCount_RNA_mad', 'nFeature_RNA_mad', 'confined_best_match_sample', 'confined_second_match_sample', 'confined_best_match_correlation', 'confined_second_match_correlation', 'confined_condition', 'unconfined_best_match_sample', 'unconfined_second_match_sample', 'unconfined_best_match_correlation', 'unconfined_second_match_correlation', 'unconfined_condition', 'soup_cluster', 'soup_status', 'soup_singlet_posterior', 'soup_doublet_posterior', 'soup_log_prob_singleton', 'soup_log_prob_doublet', 'soup_cluster0', 'soup_cluster1', 'soup_cluster2', 'soup_cluster3', 'soup_cluster4', 'soup_cluster5', 'soup_cluster6', 'soup_cluster7', 'sample_final', 'final_condition', 'predicted.mo_10x_cell_type', 'predicted.mo_10x_cell_type.score', 'predicted.mo_10x_cell_type.lowerres', 'nCount_SCT', 'nFeature_SCT', 'SCT_snn_res.1.5', 'seurat_clusters', 'condition_imputed', 'celltype_imputed', 'celltype_imputed_lowerres', 'lane_both', 'condition_sheet', 'condition_prev', 'condition_final', 'LONG_COVID', 'realid', 'age', 'sex', 'LONG_COVID_final', 'LONG_COVID_method'\n",
       "    var: 'gene_name'"
      ]
     },
     "execution_count": 2,
     "metadata": {},
     "output_type": "execute_result"
    }
   ],
   "source": [
    "DATA_DIR = Path(\"../Data/SCDRS/multiome\")\n",
    "file = DATA_DIR / \"mo_all_20240517_scanpyv1.10.2_annotated_agesexcovid_raw.h5ad\"\n",
    "adata = an.read_h5ad(file)\n",
    "adata"
   ]
  },
  {
   "cell_type": "code",
   "execution_count": 3,
   "id": "e7829913-1797-4ebe-825d-2c7e3683c748",
   "metadata": {},
   "outputs": [
    {
     "name": "stdout",
     "output_type": "stream",
     "text": [
      "min_cells=50: 31008 genes retained\n",
      "min_cells=100: 29333 genes retained\n",
      "min_cells=300: 25892 genes retained\n",
      "min_cells=800: 22112 genes retained\n"
     ]
    }
   ],
   "source": [
    "for threshold in [50, 100, 300, 800]:\n",
    "    n = (adata.X > 0).sum(axis=0).A1  # Get non-zero counts per gene\n",
    "    print(f\"min_cells={threshold}: {(n >= threshold).sum()} genes retained\")"
   ]
  },
  {
   "cell_type": "code",
   "execution_count": 3,
   "id": "98d4ffc6-1f77-48f3-a4e5-17a4dabdfeb5",
   "metadata": {},
   "outputs": [],
   "source": [
    "# Basic filtering\n",
    "sc.pp.filter_cells(adata, min_genes=200)\n",
    "sc.pp.filter_genes(adata, min_cells=80)"
   ]
  },
  {
   "cell_type": "code",
   "execution_count": null,
   "id": "e2b8cc8d-2921-4840-969f-1be8be1b95cd",
   "metadata": {},
   "outputs": [],
   "source": [
    "adata.obs_keys()"
   ]
  },
  {
   "cell_type": "code",
   "execution_count": 6,
   "id": "052b7d4e-768a-4dab-bf3c-249b39df4a2f",
   "metadata": {},
   "outputs": [
    {
     "data": {
      "text/plain": [
       "['MO205', 'UGLI012768', 'UGLI011032', 'MO204', 'UGLI021599', ..., 'MO210', 'MO216', 'MO215', 'MO211', 'MO212']\n",
       "Length: 264\n",
       "Categories (264, object): ['MO2E', 'MO2F', 'MO2G', 'MO2H', ..., 'UGLI034065', 'UGLI035701', 'UGLI035866', 'UGLI036253']"
      ]
     },
     "execution_count": 6,
     "metadata": {},
     "output_type": "execute_result"
    }
   ],
   "source": [
    "adata.obs[\"sample_final\"].unique()"
   ]
  },
  {
   "cell_type": "code",
   "execution_count": 7,
   "id": "9a382c78-d1c9-4b6b-8462-4c28d083dc10",
   "metadata": {},
   "outputs": [
    {
     "data": {
      "text/plain": [
       "['24hCA', 'UT']\n",
       "Categories (2, object): ['24hCA', 'UT']"
      ]
     },
     "execution_count": 7,
     "metadata": {},
     "output_type": "execute_result"
    }
   ],
   "source": [
    "adata.obs[\"condition_final\"].unique()"
   ]
  },
  {
   "cell_type": "code",
   "execution_count": 38,
   "id": "e4d850da-af78-4b86-978c-7dba4a68e5bf",
   "metadata": {},
   "outputs": [
    {
     "name": "stdout",
     "output_type": "stream",
     "text": [
      "['MO62', 'MO138', 'MO200', 'MO100', 'MO149', 'MO906', 'UGLI021423', 'MO90', 'UGLI028084', 'MO66']\n"
     ]
    }
   ],
   "source": [
    "samples = list(adata.obs[\"sample_final\"].unique())\n",
    "\n",
    "random_samples = random.sample(samples, 10)\n",
    "\n",
    "print(random_samples)"
   ]
  },
  {
   "cell_type": "code",
   "execution_count": 4,
   "id": "544f0628-33cc-4f2e-a8da-89940287db84",
   "metadata": {},
   "outputs": [
    {
     "name": "stdout",
     "output_type": "stream",
     "text": [
      "['MO3A', 'MO3B', 'MO11G', 'MO51', 'MO56', 'MO61', 'MO65', 'MO72', 'MO73', 'MO77', 'MO78', 'MO80', 'MO81', 'MO91', 'MO92', 'MO96', 'MO100', 'MO111', 'MO112', 'MO116', 'MO117', 'MO130', 'MO131', 'MO134', 'MO137', 'MO140', 'MO145', 'MO146', 'MO149', 'MO150', 'MO153', 'MO184', 'MO203', 'MO301', 'MO302', 'MO407', 'MO1001', 'MO1002', 'MO1107', 'UGLI001858', 'UGLI008810', 'UGLI009341', 'UGLI009951', 'UGLI015616', 'UGLI023249', 'UGLI023668', 'UGLI025281', 'UGLI027720', 'UGLI030350', 'UGLI035866', 'UGLI036253']\n"
     ]
    },
    {
     "name": "stderr",
     "output_type": "stream",
     "text": [
      "/local/1255178/ipykernel_977314/4181721099.py:8: FutureWarning: The default of observed=False is deprecated and will be changed to True in a future version of pandas. Pass observed=False to retain current behavior or observed=True to adopt the future default and silence this warning.\n",
      "  condition_sets = df_filtered.groupby(\"sample_final\")[\"condition_final\"].unique()\n"
     ]
    }
   ],
   "source": [
    "# Extract relevant columns\n",
    "df = adata.obs[[\"sample_final\", \"condition_final\"]]\n",
    "\n",
    "# Filter only rows with condition_final \"24hCA\" or \"UT\"\n",
    "df_filtered = df[df[\"condition_final\"].isin([\"24hCA\", \"UT\"])]\n",
    "\n",
    "# Group by sample_final and get the unique set of condition_final values for each\n",
    "condition_sets = df_filtered.groupby(\"sample_final\")[\"condition_final\"].unique()\n",
    "\n",
    "# Find sample_final entries where both \"24hCA\" and \"UT\" are present\n",
    "samples_with_both = condition_sets[condition_sets.apply(lambda x: set([\"24hCA\", \"UT\"]).issubset(set(x)))].index.tolist()\n",
    "\n",
    "print(samples_with_both)\n"
   ]
  },
  {
   "cell_type": "code",
   "execution_count": 11,
   "id": "1c9b2bc4-1c69-4668-9291-91d27fa6655c",
   "metadata": {},
   "outputs": [
    {
     "name": "stdout",
     "output_type": "stream",
     "text": [
      "sample_final\n",
      "MO2E          ['24hCA']\n",
      "Categories (2, object): ['24hCA', 'UT']\n",
      "MO2F          ['24hCA']\n",
      "Categories (2, object): ['24hCA', 'UT']\n",
      "MO2G          ['24hCA']\n",
      "Categories (2, object): ['24hCA', 'UT']\n",
      "MO2H          ['24hCA']\n",
      "Categories (2, object): ['24hCA', 'UT']\n",
      "MO3A          ['UT', '24hCA']\n",
      "Categories (2, object): ['24hC...\n",
      "                                    ...                        \n",
      "UGLI033928    ['24hCA']\n",
      "Categories (2, object): ['24hCA', 'UT']\n",
      "UGLI034065    ['24hCA']\n",
      "Categories (2, object): ['24hCA', 'UT']\n",
      "UGLI035701    ['24hCA']\n",
      "Categories (2, object): ['24hCA', 'UT']\n",
      "UGLI035866    ['UT', '24hCA']\n",
      "Categories (2, object): ['24hC...\n",
      "UGLI036253    ['24hCA', 'UT']\n",
      "Categories (2, object): ['24hC...\n",
      "Name: condition_final, Length: 264, dtype: object\n"
     ]
    }
   ],
   "source": [
    "print(condition_sets)"
   ]
  },
  {
   "cell_type": "code",
   "execution_count": 10,
   "id": "cb08162f-c2ea-4ff2-b5f4-588ea4079d40",
   "metadata": {},
   "outputs": [],
   "source": [
    "# Double check\n",
    "for sample in samples_with_both:\n",
    "    x = adata.obs[\"condition_final\"][adata.obs[\"sample_final\"] == sample].unique()\n",
    "    if len(x) != 2:\n",
    "        \n",
    "        print(\"nope\")"
   ]
  },
  {
   "cell_type": "code",
   "execution_count": 12,
   "id": "3b373094-23fb-4f83-8680-a3f42285ae49",
   "metadata": {},
   "outputs": [
    {
     "data": {
      "text/plain": [
       "celltype_imputed_lowerres\n",
       "CD4T        49053\n",
       "monocyte    38337\n",
       "CD8T        17428\n",
       "NK          15272\n",
       "B            9350\n",
       "DC           1295\n",
       "Name: count, dtype: int64"
      ]
     },
     "execution_count": 12,
     "metadata": {},
     "output_type": "execute_result"
    }
   ],
   "source": [
    "mask = (\n",
    "    (adata.obs[\"condition_final\"].isin([\"UT\"])) &\n",
    "    (adata.obs[\"sample_final\"].isin(samples_with_both)) &\n",
    "    (adata.obs[\"celltype_imputed_lowerres\"].isin(['B', 'monocyte', 'NK', 'DC', 'CD8T', 'CD4T']))\n",
    ")\n",
    "subsetted_data = adata[mask].copy()\n",
    "subsetted_data.obs[\"celltype_imputed_lowerres\"].value_counts()"
   ]
  },
  {
   "cell_type": "code",
   "execution_count": 13,
   "id": "5bc72965-1777-45b1-8d74-f1b4f0640115",
   "metadata": {},
   "outputs": [
    {
     "name": "stdout",
     "output_type": "stream",
     "text": [
      "Adata written to /groups/umcg-franke-scrna/tmp02/projects/multiome/ongoing/sc-scoring-student-project/scScoring/Data/SCDRS/multiome/UT+24hCAsamples_6ct_UT_raw.h5ad\n"
     ]
    }
   ],
   "source": [
    "# Write file\n",
    "out_file = DATA_DIR / \"UT+24hCA_6ct_UT_raw.h5ad\"\n",
    "subsetted_data.write_h5ad(out_file)\n",
    "print(f\"Adata written to {out_file}\")"
   ]
  },
  {
   "cell_type": "code",
   "execution_count": null,
   "id": "8b2f6281-c336-4fbb-86bd-82dcce9ad238",
   "metadata": {},
   "outputs": [],
   "source": [
    "mask = (\n",
    "    (adata.obs[\"condition_final\"].isin([\"24hCA\"])) &\n",
    "    (adata.obs[\"sample_final\"].isin(samples_with_both)) &\n",
    "    (adata.obs[\"celltype_imputed_lowerres\"].isin(['B', 'monocyte', 'NK', 'DC', 'CD8T', 'CD4T']))\n",
    ")\n",
    "subsetted_data = adata[mask].copy()\n",
    "subsetted_data.obs[\"celltype_imputed_lowerres\"].value_counts()"
   ]
  },
  {
   "cell_type": "code",
   "execution_count": null,
   "id": "9bfdbad8-e5fe-4fd5-b866-a361abeef6cc",
   "metadata": {},
   "outputs": [],
   "source": [
    "# Write file\n",
    "out_file = DATA_DIR / \"UT+24hCA_6ct_24hCA_raw.h5ad\"\n",
    "subsetted_data.write_h5ad(out_file)"
   ]
  }
 ],
 "metadata": {
  "kernelspec": {
   "display_name": "Python 3 (ipykernel)",
   "language": "python",
   "name": "python3"
  },
  "language_info": {
   "codemirror_mode": {
    "name": "ipython",
    "version": 3
   },
   "file_extension": ".py",
   "mimetype": "text/x-python",
   "name": "python",
   "nbconvert_exporter": "python",
   "pygments_lexer": "ipython3",
   "version": "3.9.21"
  }
 },
 "nbformat": 4,
 "nbformat_minor": 5
}
