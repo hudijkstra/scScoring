{
 "cells": [
  {
   "cell_type": "markdown",
   "metadata": {},
   "source": [
    "<H1> Monocytes GWAS processing (DEPRECATED)"
   ]
  },
  {
   "cell_type": "markdown",
   "metadata": {},
   "source": [
    "monocyte GWAS summary statistics obtained from https://ftp.sanger.ac.uk/pub/project/humgen/summary_statistics/UKBB_blood_cell_traits/<br> https://pmc.ncbi.nlm.nih.gov/articles/PMC7482360/#\n",
    "\n"
   ]
  },
  {
   "cell_type": "code",
   "execution_count": 1,
   "metadata": {},
   "outputs": [
    {
     "name": "stdout",
     "output_type": "stream",
     "text": [
      "MAGMA version: v1.10 (linux/s)\n",
      "\n"
     ]
    }
   ],
   "source": [
    "# Imports\n",
    "import os\n",
    "import seaborn as sns\n",
    "import pandas as pd\n",
    "import numpy as np\n",
    "import matplotlib.pyplot as plt\n",
    "# from matplotlib_venn import venn2\n",
    "import heapq\n",
    "import sys\n",
    "sys.path.append(\"../Src\")\n",
    "from pathlib import Path\n",
    "from magma_utils import run_gene_annotation, run_window_analysis, batch_gene_analysis\n",
    "from file_handler import iterate_trait_files, create_run_dir\n",
    "import subprocess as sp\n",
    "\n",
    "result = sp.run(f\"magma --version\", shell=True, capture_output=True, text=True)\n",
    "print(result.stdout) if result.stdout else None\n",
    "print(result.stderr) if result.stderr else None"
   ]
  },
  {
   "cell_type": "code",
   "execution_count": 2,
   "metadata": {},
   "outputs": [],
   "source": [
    "# Data directories\n",
    "GWAS_DIR = Path(\"../Data/GWAS\")\n",
    "SCDRS_DIR = Path(\"../Data/SCDRS\")\n",
    "MAGMA_DIR = Path(\"../Data/MAGMA\")\n",
    "\n",
    "mono_marker_genes = [\"CTSS\", \"FCN1\", \"NEAT1\", \"LYZ\", \"PSAP\", \"S100A9\", \"AIF1\", \"MNDA\", \"SERPINA1\", \"TYROBP\"]"
   ]
  },
  {
   "cell_type": "markdown",
   "metadata": {},
   "source": [
    "# <b>1. Processing of GWAS summary statistics"
   ]
  },
  {
   "cell_type": "code",
   "execution_count": null,
   "metadata": {},
   "outputs": [
    {
     "name": "stdout",
     "output_type": "stream",
     "text": [
      "Traits: mono_p, mono_c\n"
     ]
    }
   ],
   "source": [
    "# Define traits \n",
    "TRAITS = {\n",
    "    \"mono_p\": Path(\"path/to/data/Mono_perc_Leuk_GWAS.tsv.gz\"),  # Percentage of white cells that are monocytes\n",
    "    \"mono_c\": Path(\"path/to/data/Mono_count_GWAS.tsv.gz\")  # Count of monocytes per unit volume of blood\n",
    "}\n",
    "\n",
    "print(f\"Traits: {', '.join(TRAITS.keys())}\")\n"
   ]
  },
  {
   "cell_type": "code",
   "execution_count": 4,
   "metadata": {},
   "outputs": [
    {
     "name": "stdout",
     "output_type": "stream",
     "text": [
      "Reading file /groups/umcg-franke-scrna/tmp02/external_datasets/eqtlgen_parquet_dataset/gwas_id=Vuckovic_MONOCYTE_PERCENTAGE_OF_LEUKOCYTES/Mono_perc_Leuk_GWAS.tsv.gz...\n",
      "Reading file /groups/umcg-franke-scrna/tmp02/external_datasets/eqtlgen_parquet_dataset/gwas_id=Vuckovic_MONOCYTE_COUNT/Mono_count_GWAS.tsv.gz...\n",
      "Done\n"
     ]
    }
   ],
   "source": [
    "# Read files\n",
    "summ_stats = {}\n",
    "for trait, file_path in TRAITS.items():\n",
    "    print(f\"Reading file {file_path}...\")\n",
    "    summ_stats[trait] = pd.read_csv(file_path, sep=\"\\t\", compression=\"gzip\")\n",
    "print(\"Done\")"
   ]
  },
  {
   "cell_type": "code",
   "execution_count": 24,
   "metadata": {},
   "outputs": [
    {
     "name": "stdout",
     "output_type": "stream",
     "text": [
      "Total variants for mono_p: 9,270,230\n",
      "GWSIG variants(p < 5e-8): 91109\n",
      "\n",
      "      A1 A2      p        se       variant         bp  chromosome str_allele1  \\\n",
      "0  CAAAT  C  0.270  0.002160   rs139599623  100011685          10       CAAAT   \n",
      "1     GA  G  0.032  0.002540  rs1223654463  100019534          10          GA   \n",
      "2     CA  C  0.200  0.002285  rs1298198464  100027107          10          CA   \n",
      "3     CA  C  0.340  0.002294  rs1167882806  100032091          10          CA   \n",
      "4     CT  C  0.028  0.002349  rs1337637051  100040660          10          CT   \n",
      "\n",
      "  str_allele2  variant_index      beta  \n",
      "0           C       32021003  0.002390  \n",
      "1           G       32021142 -0.005456  \n",
      "2           C       32021321 -0.002959  \n",
      "3           C       32021422 -0.002201  \n",
      "4           C       32021570 -0.005163  \n",
      "\n",
      "Total variants for mono_c: 8,893,396\n",
      "GWSIG variants(p < 5e-8): 110359\n",
      "\n",
      "    A1 A2     p        se             variant         bp  chromosome  \\\n",
      "0  TTA  T  0.75  0.003796          rs55663920  105564218          10   \n",
      "1  AAT  A  0.27  0.004941  10:106475328:AAT:A  106475327          10   \n",
      "2  CTG  C  0.57  0.008900  10:106518896:CTG:C  106518894          10   \n",
      "3  GAA  G  0.22  0.002132         rs775740081  108409297          10   \n",
      "4  TTA  T  0.93  0.006054  10:112897510:TTA:T  112897510          10   \n",
      "\n",
      "  str_allele1 str_allele2  variant_index      beta  \n",
      "0         TTA           T       32108349  0.001194  \n",
      "1         AAT           A       32124470  0.005434  \n",
      "2         CTG           C       32125254  0.005055  \n",
      "3         GAA           G       32161355  0.002640  \n",
      "4         TTA           T       32245285  0.000561  \n",
      "\n"
     ]
    }
   ],
   "source": [
    "for trait, data in summ_stats.items():\n",
    "    print(f\"Total variants for {trait}: {len(data):,}\")\n",
    "    print(f\"GWSIG variants(p < 5e-8): {(data['p'] < 5e-8).sum()}\\n\")\n",
    "    print(data.head())\n",
    "    print()"
   ]
  },
  {
   "cell_type": "code",
   "execution_count": 30,
   "metadata": {},
   "outputs": [
    {
     "data": {
      "image/png": "[encoded data removed]",
      "text/plain": [
       "<Figure size 600x400 with 1 Axes>"
      ]
     },
     "metadata": {},
     "output_type": "display_data"
    },
    {
     "data": {
      "image/png": "[encoded data removed]",
      "text/plain": [
       "<Figure size 600x400 with 1 Axes>"
      ]
     },
     "metadata": {},
     "output_type": "display_data"
    }
   ],
   "source": [
    "for trait, data in summ_stats.items():\n",
    "    plt.figure(figsize=(6, 4))\n",
    "    sns.boxplot(x=data['p'])\n",
    "\n",
    "    # Add labels and title\n",
    "    plt.xlabel(f\"{trait} p values\")\n",
    "\n",
    "    # Show the plot\n",
    "    plt.show()"
   ]
  },
  {
   "cell_type": "code",
   "execution_count": 32,
   "metadata": {},
   "outputs": [
    {
     "name": "stdout",
     "output_type": "stream",
     "text": [
      "mono_p\n",
      "N SNPs with positive effect size: 4,609,002\n",
      "N SNPs with negative effect size: 4,661,228\n",
      "Minimum effect:-0.199707, maximum effect:0.483355\n",
      "\n",
      "mono_c\n",
      "N SNPs with positive effect size: 4,428,673\n",
      "N SNPs with negative effect size: 4,464,723\n",
      "Minimum effect:-0.15134, maximum effect:0.555262\n",
      "\n"
     ]
    }
   ],
   "source": [
    "# Effect size\n",
    "for trait, data in summ_stats.items():\n",
    "    print(trait)\n",
    "    print(f\"N SNPs with positive effect size: {len(data[data['beta'] > 0]):,}\")\n",
    "    print(f\"N SNPs with negative effect size: {len(data[data['beta'] < 0]):,}\")\n",
    "    print(f\"Minimum effect:{min(data['beta'])}, maximum effect:{max(data['beta'])}\")\n",
    "    print()"
   ]
  },
  {
   "cell_type": "code",
   "execution_count": 47,
   "metadata": {
    "collapsed": true,
    "jupyter": {
     "outputs_hidden": true
    }
   },
   "outputs": [
    {
     "data": {
      "image/png": "[encoded data removed]",
      "text/plain": [
       "<Figure size 800x600 with 1 Axes>"
      ]
     },
     "metadata": {},
     "output_type": "display_data"
    },
    {
     "data": {
      "image/png": "[encoded data removed]",
      "text/plain": [
       "<Figure size 800x600 with 1 Axes>"
      ]
     },
     "metadata": {},
     "output_type": "display_data"
    }
   ],
   "source": [
    "for trait, data in summ_stats.items():\n",
    "    plt.figure(figsize=(8, 6))\n",
    "    sns.histplot(data['beta'], kde=True, bins=30)\n",
    "    plt.title(f\"Distribution of Effect Sizes for {trait}\")\n",
    "    plt.xlabel('Effect Size (beta)')\n",
    "    plt.ylabel('Frequency')\n",
    "    plt.show()\n"
   ]
  },
  {
   "cell_type": "code",
   "execution_count": 41,
   "metadata": {},
   "outputs": [
    {
     "data": {
      "image/png": "[encoded data removed]",
      "text/plain": [
       "<Figure size 500x500 with 1 Axes>"
      ]
     },
     "metadata": {},
     "output_type": "display_data"
    }
   ],
   "source": [
    "# Convert variant columns to sets\n",
    "mono_p_variants = set(summ_stats[\"mono_p\"][\"variant\"])\n",
    "mono_c_variants = set(summ_stats[\"mono_c\"][\"variant\"])\n",
    "\n",
    "# Create Venn diagram\n",
    "plt.figure(figsize=(5,5))\n",
    "venn = venn2([mono_p_variants, mono_c_variants], set_labels=(\"mono_p\", \"mono_c\"))\n",
    "venn.get_patch_by_id('01').set_facecolor('#98FF98')\n",
    "\n",
    "# Add a title\n",
    "plt.title(\"Overlap of Variants Between Traits\")\n",
    "\n",
    "# Show the plot\n",
    "plt.show()"
   ]
  },
  {
   "cell_type": "code",
   "execution_count": 6,
   "metadata": {},
   "outputs": [
    {
     "name": "stdout",
     "output_type": "stream",
     "text": [
      "Aligned variants: 8887605\n"
     ]
    },
    {
     "data": {
      "image/png": "[encoded data removed]",
      "text/plain": [
       "<Figure size 900x600 with 1 Axes>"
      ]
     },
     "metadata": {},
     "output_type": "display_data"
    }
   ],
   "source": [
    "def scatter_plot_with_lm(summ_stats, trait1, trait2):\n",
    "    # Extract the data for the two traits\n",
    "    data1 = summ_stats[trait1][['variant', 'beta']]\n",
    "    data2 = summ_stats[trait2][['variant', 'beta']]\n",
    "\n",
    "    # Merge the two datasets on the 'variant' column\n",
    "    merged_data = pd.merge(data1, data2, on='variant', how='inner', suffixes=(f\"_{trait1}\", f\"_{trait2}\"))\n",
    "\n",
    "    # Check the alignment of variants\n",
    "    print(f\"Aligned variants: {len(merged_data)}\")\n",
    "\n",
    "    # Create scatter plot with linear regression line\n",
    "    sns.lmplot(x=f'beta_{trait1}',\n",
    "               y=f'beta_{trait2}',\n",
    "               data=merged_data,\n",
    "               aspect=1.5,\n",
    "               height=6, \n",
    "               scatter_kws={'s': 20},\n",
    "               line_kws={'color': 'red'})\n",
    "    \n",
    "    # Add R^2 value in the plot title\n",
    "    r = merged_data[f'beta_{trait1}'].corr(merged_data[f'beta_{trait2}'])\n",
    "    plt.title(f\"Monocyte Percentage vs Count (r = {r:.2f})\")\n",
    "    plt.xlabel(f\"β Monocyte Percentage\")\n",
    "    plt.ylabel(f\"β Monocyte Count\")\n",
    "    plt.show()\n",
    "\n",
    "trait1 = \"mono_p\"\n",
    "trait2 = \"mono_c\"\n",
    "scatter_plot_with_lm(summ_stats, trait1, trait2)\n"
   ]
  },
  {
   "cell_type": "markdown",
   "metadata": {},
   "source": [
    "### 1.4 Write files"
   ]
  },
  {
   "cell_type": "code",
   "execution_count": 45,
   "metadata": {},
   "outputs": [
    {
     "name": "stdout",
     "output_type": "stream",
     "text": [
      "dict_keys(['mono_p', 'P-mono_p', 'N-mono_p', 'mono_c', 'P-mono_c', 'N-mono_c'])\n"
     ]
    }
   ],
   "source": [
    "# Prepare snploc and SNP P-value file data\n",
    "all_pval_data = {}\n",
    "all_snploc_data = {}\n",
    "\n",
    "for trait, data in summ_stats.items():\n",
    "    # Ensure correct types\n",
    "    data[\"bp\"] = data[\"bp\"].astype(\"Int64\")\n",
    "    data[\"chromosome\"] = data[\"chromosome\"].astype(\"Int64\")\n",
    "    \n",
    "    # Get all SNP ids, chromosome ids and SNP chromosome locations\n",
    "    all_snploc_data[trait] = data[[\"variant\", \"chromosome\", \"bp\"]]\n",
    "\n",
    "    # SNP id and p-values\n",
    "    all_pval_data[trait] = data[[\"variant\", \"p\"]]\n",
    "\n",
    "    # Subset positive/negative effect SNPs\n",
    "    pos_effect_data = data[data[\"beta\"] > 0]  \n",
    "    neg_effect_data = data[data[\"beta\"] < 0]  \n",
    "\n",
    "    # Add positve effect size data\n",
    "    all_snploc_data[\"P-\" + trait] = pos_effect_data[[\"variant\", \"chromosome\", \"bp\"]]\n",
    "    all_pval_data[\"P-\" + trait] = pos_effect_data[[\"variant\", \"p\"]]\n",
    "    \n",
    "    # Add negative effect size data\n",
    "    all_snploc_data[\"N-\" + trait] = neg_effect_data[[\"variant\", \"chromosome\", \"bp\"]]\n",
    "    all_pval_data[\"N-\" + trait] = neg_effect_data[[\"variant\", \"p\"]]\n",
    "\n",
    "print(all_snploc_data.keys())"
   ]
  },
  {
   "cell_type": "code",
   "execution_count": 46,
   "metadata": {},
   "outputs": [
    {
     "name": "stdout",
     "output_type": "stream",
     "text": [
      "SNP location file written to: ../Data/MAGMA/snp_locations/mono_p_SNPLOC.tsv\n",
      "PVAL file written to: ../Data/MAGMA/pvals/mono_p_PVAL.txt\n",
      "SNP location file written to: ../Data/MAGMA/snp_locations/P-mono_p_SNPLOC.tsv\n",
      "PVAL file written to: ../Data/MAGMA/pvals/P-mono_p_PVAL.txt\n",
      "SNP location file written to: ../Data/MAGMA/snp_locations/N-mono_p_SNPLOC.tsv\n",
      "PVAL file written to: ../Data/MAGMA/pvals/N-mono_p_PVAL.txt\n",
      "SNP location file written to: ../Data/MAGMA/snp_locations/mono_c_SNPLOC.tsv\n",
      "PVAL file written to: ../Data/MAGMA/pvals/mono_c_PVAL.txt\n",
      "SNP location file written to: ../Data/MAGMA/snp_locations/P-mono_c_SNPLOC.tsv\n",
      "PVAL file written to: ../Data/MAGMA/pvals/P-mono_c_PVAL.txt\n",
      "SNP location file written to: ../Data/MAGMA/snp_locations/N-mono_c_SNPLOC.tsv\n",
      "PVAL file written to: ../Data/MAGMA/pvals/N-mono_c_PVAL.txt\n"
     ]
    }
   ],
   "source": [
    "# Writing files for MAGMA\n",
    "for trait, snploc_data in all_snploc_data.items():\n",
    "    snploc_file = MAGMA_DIR / \"snp_locations\" / f\"{trait}_SNPLOC.tsv\"\n",
    "    pval_file = MAGMA_DIR / \"pvals\" / f\"{trait}_PVAL.txt\"\n",
    "\n",
    "    # SNP location data file\n",
    "    snploc_data.to_csv(snploc_file, sep=\"\\t\", index=False, header=False)\n",
    "    # SNP P-values file\n",
    "    all_pval_data[trait].to_csv(pval_file, sep=\"\\t\", index=False, header=True)\n",
    "\n",
    "    print(f\"SNP location file written to: {snploc_file}\")\n",
    "    print(f\"PVAL file written to: {pval_file}\")"
   ]
  },
  {
   "cell_type": "markdown",
   "metadata": {},
   "source": [
    "Processing gene location file to MAGMA format.<br>\n",
    "The gene location file must contain at least four columns, in this order: (1) **gene ID**, (2) **chromosome**, (3) **start site**, (4) **stop site**.<br> "
   ]
  },
  {
   "cell_type": "markdown",
   "metadata": {},
   "source": [
    "#### <b>Formatting GRCh38 gene location file"
   ]
  },
  {
   "cell_type": "code",
   "execution_count": 51,
   "metadata": {},
   "outputs": [
    {
     "name": "stdout",
     "output_type": "stream",
     "text": [
      "    feature_id chromosome  start     end             ENSG         biotype\n",
      "0  MIR1302-2HG          1  29554   31109  ENSG00000243485         lincRNA\n",
      "1      FAM138A          1  34554   36081  ENSG00000237613         lincRNA\n",
      "2        OR4F5          1  65419   71585  ENSG00000186092  protein_coding\n",
      "3   AL627309.1          1  89295  133723  ENSG00000238009         lincRNA\n",
      "4   AL627309.3          1  89551   91105  ENSG00000239945         lincRNA\n"
     ]
    }
   ],
   "source": [
    "gene_location_file = Path(\"../Data/Reference/GRCh38/LimixAnnotationFile.txt\")\n",
    "gene_loc_data = pd.read_csv(gene_location_file, sep=\"\\t\")\n",
    "print(gene_loc_data.head())"
   ]
  },
  {
   "cell_type": "code",
   "execution_count": 67,
   "metadata": {},
   "outputs": [
    {
     "name": "stdout",
     "output_type": "stream",
     "text": [
      "['1' '2' '3' '4' '5' '6' '7' 'X' '8' '9' '11' '10' '12' '13' '14' '15'\n",
      " '16' '17' '18' '20' '19' 'Y' '22' '21' 'MT']\n"
     ]
    }
   ],
   "source": [
    "print(gene_loc_data[\"chromosome\"].unique())"
   ]
  },
  {
   "cell_type": "code",
   "execution_count": 57,
   "metadata": {},
   "outputs": [
    {
     "name": "stdout",
     "output_type": "stream",
     "text": [
      "File written to ../Data/MAGMA/gene_locations/GRCh38_GENELOC.tsv\n"
     ]
    }
   ],
   "source": [
    "# Format and writ to file\n",
    "file_loc = MAGMA_DIR / \"gene_locations\" / \"GRCh38_GENELOC.tsv\"\n",
    "gene_loc_data[ [ \"feature_id\", \"chromosome\", \"start\", \"end\"] ].to_csv(file_loc, sep=\"\\t\", header=None, index=None)\n",
    "print(f\"File written to {file_loc}\")"
   ]
  },
  {
   "cell_type": "markdown",
   "metadata": {
    "jp-MarkdownHeadingCollapsed": true
   },
   "source": [
    "#### <b>2.1 LiftOver approach (Discarded)"
   ]
  },
  {
   "cell_type": "code",
   "execution_count": 14,
   "metadata": {},
   "outputs": [
    {
     "name": "stdout",
     "output_type": "stream",
     "text": [
      "    feature_id chromosome  start     end             ENSG         biotype\n",
      "0  MIR1302-2HG          1  29554   31109  ENSG00000243485         lincRNA\n",
      "1      FAM138A          1  34554   36081  ENSG00000237613         lincRNA\n",
      "2        OR4F5          1  65419   71585  ENSG00000186092  protein_coding\n",
      "3   AL627309.1          1  89295  133723  ENSG00000238009         lincRNA\n",
      "4   AL627309.3          1  89551   91105  ENSG00000239945         lincRNA\n"
     ]
    }
   ],
   "source": [
    "DATA_ANNOT = Path(\"../Data/Reference/GRCh38/LimixAnnotationFile.txt\")\n",
    "chain_file = \"../Data/Reference/GRCh37/hg38ToHg19.over.chain.gz\"\n",
    "\n",
    "# Load gene\n",
    "gene_anno_data = pd.read_csv(DATA_ANNOT, sep=\"\\t\")\n",
    "print(gene_anno_data.head())\n",
    "\n",
    "# Initialize LiftOver object with the GRCh38 to GRCh37 chain file\n",
    "lo = LiftOver(chain_file)\n",
    "\n",
    "coordinates = list(zip(gene_anno_data['chromosome'], gene_anno_data['start'], gene_anno_data['end'], gene_anno_data['feature_id']))"
   ]
  },
  {
   "cell_type": "code",
   "execution_count": 16,
   "metadata": {},
   "outputs": [],
   "source": [
    "# Write file for online liftover tool\n",
    "bed_df = gene_anno_data[['chromosome', 'start', 'end', 'feature_id']].copy()\n",
    "# Change to correct gene names\n",
    "bed_df['chromosome'] = bed_df['chromosome'].apply(lambda x: 'chrM' if x == 'MT' else f'chr{x}')\n",
    "bed_df.to_csv('../Data/Reference/GRCh37/hg38ToHg19_anno.bed', sep='\\t', index=False, header=False)"
   ]
  },
  {
   "cell_type": "raw",
   "metadata": {},
   "source": [
    "Failure explanation:\n",
    "\n",
    "Deleted in new:\n",
    "    Sequence intersects no chains\n",
    "Partially deleted in new:\n",
    "    Sequence insufficiently intersects one chain\n",
    "Split in new:\n",
    "    Sequence insufficiently intersects multiple chains\n",
    "Duplicated in new:\n",
    "    Sequence sufficiently intersects multiple chains\n",
    "Boundary problem:\n",
    "    Missing start or end base in an exon\n",
    "\n",
    "Paramaters:\n",
    "\n",
    "\t\n",
    "Minimum ratio of bases that must map: \t0.95\n",
    " \n",
    "BED 4 to BED 6 Options\n",
    "Allow multiple output regions: \toff\n",
    "  Minimum hit size in query: \t0\n",
    "  Minimum chain size in target: \t0\n"
   ]
  },
  {
   "cell_type": "code",
   "execution_count": 28,
   "metadata": {},
   "outputs": [
    {
     "name": "stdout",
     "output_type": "stream",
     "text": [
      "n lost genes: 198 \n",
      "['CDK11B', 'TTC34', 'PRAMEF27', 'HNRNPCL3', 'PRAMEF25', 'PRAMEF26', 'HNRNPCL4', 'PRAMEF9', 'PRAMEF13', 'CROCC', 'SEC22B', 'NBPF26', 'PPIAL4A', 'LINC00623', 'FCGR1B', 'AC244453.3', 'AC244453.2', 'AC244453.1', 'SRGAP2C', 'AC245595.1', 'LINC01632', 'FP700111.1', 'SRGAP2B', 'PPIAL4D', 'AC245014.3', 'AC245014.1', 'NBPF20', 'NBPF10', 'AC239799.1', 'AC243756.1', 'PPIAL4G', 'NBPF14', 'NBPF9', 'AC245297.3', 'NBPF19', 'PPIAL4C', 'MUC1', 'RAB7B', 'SRGAP2', 'CAPN8', 'LINC01348', 'LYPD8', 'LINC01115', 'IGKJ2', 'AL845331.2', 'TWIST2', 'SHISA5', 'DNAH12', 'SLC25A26', 'ZNF718', 'AC017091.1', 'AC239584.1', 'DUX4', 'AC142391.1', 'ECSCR', 'PRIM2', 'FO680682.1', 'CD24', 'FAM20C', 'IKZF1', 'AC237221.1', 'MUC3A', 'AC254629.1', 'SH2B2', 'COPG2', 'TRBV6-2', 'TRBV7-2', 'TRBV7-3', 'TRBV7-9', 'TRBV13', 'TRBV10-3', 'TRBV11-3', 'TRBV12-3', 'TRBV12-4', 'TRBV12-5', 'TRBV14', 'TRBV15', 'TRBV16', 'TRBV17', 'TRBV18', 'PRSS2', 'TRBD1', 'TRBJ1-1', 'TRBJ1-2', 'TRBJ1-3', 'TRBJ1-4', 'TRBJ1-5', 'TRBJ1-6', 'TRBC1', 'TCAF2', 'GTPBP6', 'CRLF2', 'JADE3', 'KCND1', 'GPKOW', 'MAGIX', 'CCNB3', 'FGF16', 'CT45A3', 'CT45A5', 'CT45A6', 'CT45A2', 'CT45A7', 'CT45A8', 'CT45A10', 'SPANXC', 'MAMLD1', 'TEX28', 'EPPK1', 'SPATC1', 'BMS1P14', 'BX255923.1', 'AL354718.2', 'AL591926.2', 'CNTNAP3B', 'SPATA31A6', 'FAM74A7', 'AL445584.2', 'BX088651.2', 'BX664718.1', 'AL591441.1', 'SPATA31A7', 'BX005040.3', 'BX005040.1', 'BX088645.1', 'CBWD5', 'ANKRD20A1', 'HMCN2', 'STKLD1', 'CCDC187', 'MUC2', 'MUC5AC', 'AP007216.1', 'SHANK2', 'OR8G1', 'AL591684.1', 'AGAP9', 'AC245041.2', 'TIMM23B', 'DOCK1', 'FP565171.1', 'PPP2R2D', 'C1R', 'SVOP', 'GALNT9', 'GRK1', 'C13orf46', 'AL589743.5', 'IGHM', 'IGHV4-4', 'IGHV7-4-1', 'IGHV3-64D', 'IGHV5-10-1', 'IGHV4-31', 'IGHV3-54', 'IGHV2-70D', 'IGHV3-69-1', 'IGHV1-69-2', 'AC135068.1', 'GOLGA6L22', 'GOLGA6L1', 'TMEM114', 'NOMO2', 'AC141257.2', 'AC240565.2', 'AC240565.1', 'DOC2B', 'KCNJ18', 'AC209154.2', 'TBC1D3D', 'TBC1D3C', 'TBC1D3E', 'TTC25', 'LINC00854', 'PECAM1', 'MILR1', 'BAHCC1', 'KATNAL2', 'ELOA3C', 'ELOA3B', 'LILRA6', 'LINC01660', 'AC011718.1', 'FAM230A', 'AC079801.1', 'LINC01670', 'CU633967.1', 'CU633906.1', 'CU633906.2', 'CU638689.4', 'CU638689.1', 'CU634019.4', 'CU634019.2', 'CU634019.1', 'CU633904.1', 'FP236241.1', 'FP671120.1', 'FP236383.1']\n"
     ]
    }
   ],
   "source": [
    "# Failure genes produced by UCSC LiftOver website tool\n",
    "bad_map_file = \"../Data/Reference/GRCh37/hg38ToHg19_failure.bed\"\n",
    "bad_map_data = pd.read_csv(bad_map_file, sep=\"\\t\", comment=\"#\", header=None)\n",
    "\n",
    "lost_genes = list(bad_map_data[3])\n",
    "print(f'n lost genes: {len(lost_genes)} \\n{lost_genes}')"
   ]
  },
  {
   "cell_type": "code",
   "execution_count": 5,
   "metadata": {},
   "outputs": [],
   "source": [
    "# Writing to correct format for MAGMA gene locations file\n",
    "geneloc_dir = MAGMA_DIR / \"gene_locations\"\n",
    "lifted_anno_file = \"../Data/Reference/GRCh37/hg38ToHg19_lifted.bed\"\n",
    "\n",
    "lifted_data = pd.read_csv(lifted_anno_file, sep=\"\\t\", comment=\"#\", header=None, names=[\"Chromosome\", \"Start\", \"End\", \"gene_name\"])\n",
    "lifted_data[\"Chromosome\"] = lifted_data[\"Chromosome\"].str.replace(\"chr\", \"\", regex=False)\n",
    "lifted_data[ [ \"gene_name\", \"Chromosome\", \"Start\", \"End\"] ].to_csv(geneloc_dir / \"hg38ToHg19_lifted.tsv\", sep=\"\\t\", header=None, index=None)\n"
   ]
  },
  {
   "cell_type": "code",
   "execution_count": null,
   "metadata": {},
   "outputs": [],
   "source": [
    "### DISCARDED METHOD ####\n",
    "\n",
    "bad_maps = []\n",
    "errors = {}\n",
    "\n",
    "# Perform liftOver conversion from GRCh38 to GRCh37\n",
    "for idx, (chromosome, start, end, gene_name) in enumerate(coordinates):\n",
    "    try:           \n",
    "        chrom = \"chr\" + chromosome\n",
    "        hg19_start = lo.convert_coordinate(chrom, start)\n",
    "        hg19_end = lo.convert_coordinate(chrom, end)\n",
    "        \n",
    "        \n",
    "        if (hg19_start[0][2] != hg19_end[0][2]):\n",
    "            print(f' BAD gene name:{gene_name} chr {chrom} start {start}, end {end}')\n",
    "            bad_maps.append(gene_name)\n",
    "        \n",
    "        if (chrom != hg19_start[0][0]) or (chrom != hg19_end[0][0]) or (hg19_start[0][0] != hg19_end[0][0]):\n",
    "            bad_maps.append(gene_name)\n",
    "\n",
    "        if idx % 200 == 0:\n",
    "            print(f'GOOD chr {chrom} start {start}, end {end} name {gene_name}')\n",
    "            \n",
    "    except Exception as e:\n",
    "        error_msg = str(e)  # Convert exception to string\n",
    "        if error_msg not in errors:\n",
    "            errors[error_msg] = 1\n",
    "        else:\n",
    "            errors[error_msg] += 1\n",
    "        bad_maps.append(gene_name)\n",
    "        \n",
    "# # Add converted coordinates to DataFrame\n",
    "# df['converted_start'] = [coord[0] if coord else None for coord in converted_coordinates]\n",
    "# df['converted_end'] = [coord[1] if coord else None for coord in converted_coordinates]\n",
    "print(errors.items())\n",
    "print(f'N bad genes: {len(bad_maps)}')\n",
    "print(bad_maps)\n",
    "# Output the converted data (GRCh37 coordinates)\n",
    "# print(grch37_data)\n"
   ]
  },
  {
   "cell_type": "markdown",
   "metadata": {
    "jp-MarkdownHeadingCollapsed": true
   },
   "source": [
    "#### <b>2.2 pyensemble gene_by_id approach (Discarded)"
   ]
  },
  {
   "cell_type": "code",
   "execution_count": null,
   "metadata": {},
   "outputs": [],
   "source": [
    "# DEPRECATED\n",
    "\n",
    "# Load the GRCh37 (hg19) Ensembl annotation\n",
    "ensembl_grch37 = pyensembl.EnsemblRelease(75)  # GRCh37/hg19 final release\n",
    "\n",
    "# Example Ensembl Gene IDs from GRCh38\n",
    "gene_ids = [\"ENSG00000223972\", \"ENSG00000139618\"]  # Example: BRAF, BRCA2\n",
    "\n",
    "# Get gene locations in GRCh37\n",
    "for gene_id in gene_ids:\n",
    "    # try:\n",
    "        gene = ensembl_grch37.genes_by_name(\"MIR1302-2HG\")\n",
    "        # gene = ensembl_grch37.gene_by_id(gene_id)\n",
    "        print(f\"{gene_id} -> {gene.contig}:{gene.start}-{gene.end} ({gene.strand})\")\n",
    "    # except ValueError:\n",
    "        # print(f\"{gene_id} not found in GRCh37\")"
   ]
  },
  {
   "cell_type": "markdown",
   "metadata": {
    "jp-MarkdownHeadingCollapsed": true
   },
   "source": [
    "#### <b>2.3 Mapping ensemble ids approach (Discarded)"
   ]
  },
  {
   "cell_type": "code",
   "execution_count": 25,
   "metadata": {},
   "outputs": [
    {
     "name": "stdout",
     "output_type": "stream",
     "text": [
      "  chromosome  source     feature  start    end score strand frame  \\\n",
      "0       chr1  HAVANA        gene  11869  14412     .      +     .   \n",
      "1       chr1  HAVANA  transcript  11869  14409     .      +     .   \n",
      "2       chr1  HAVANA        exon  11869  12227     .      +     .   \n",
      "3       chr1  HAVANA        exon  12613  12721     .      +     .   \n",
      "4       chr1  HAVANA        exon  13221  14409     .      +     .   \n",
      "\n",
      "                                           attribute  \n",
      "0  gene_id \"ENSG00000223972.4\"; transcript_id \"EN...  \n",
      "1  gene_id \"ENSG00000223972.4\"; transcript_id \"EN...  \n",
      "2  gene_id \"ENSG00000223972.4\"; transcript_id \"EN...  \n",
      "3  gene_id \"ENSG00000223972.4\"; transcript_id \"EN...  \n",
      "4  gene_id \"ENSG00000223972.4\"; transcript_id \"EN...  \n"
     ]
    }
   ],
   "source": [
    "# DEPERECATED\n",
    "\n",
    "GENLOC_REFERENCE = Path(\"../Data/Reference/GRCh37/gencode.v19.annotation.gtf\")\n",
    "# GENLOC_REFERENCE = Path(\"../Data/Reference/GRCh37/Homo_sapiens.GRCh37.87.chr.gtf\")\n",
    "\n",
    "# Read .gtf file\n",
    "gtf_data = pd.read_csv(GENLOC_REFERENCE, sep=\"\\t\", skiprows=5, header=None)\n",
    "gtf_data.columns = [\"chromosome\", \"source\", \"feature\", \"start\", \"end\", \"score\", \"strand\", \"frame\", \"attribute\"]\n",
    "\n",
    "print(gtf_data.head())"
   ]
  },
  {
   "cell_type": "code",
   "execution_count": null,
   "metadata": {},
   "outputs": [],
   "source": [
    "# Subset genes data, remove chromosome Y data to avoid duplicate gene names\n",
    "gtf_genes = gtf_data[(gtf_data[\"feature\"] == \"gene\") & (gtf_data[\"seqname\"] != \"chrY\")].copy()\n",
    "\n",
    "# Extract ENSEMBL id\n",
    "gtf_genes[\"ENSG\"] = gtf_genes[\"attribute\"].str.extract(r'gene_id \"([^\"]+)\"').copy()\n",
    "gtf_genes[\"ENSG\"] = gtf_genes[\"ENSG\"].str.split(\".\").str[0]\n",
    "\n",
    "gtf_genes[\"feature_id\"] = gtf_genes[\"attribute\"].str.extract(r'gene_name \"([^\"]+)\"').copy()\n",
    "\n",
    "# Keep relevant columns\n",
    "gtf_genes = gtf_genes[[\"chromosome\", \"start\", \"end\", \"strand\", \"ENSG\", \"feature_id\"]]\n",
    "\n",
    "print(gtf_genes.head())"
   ]
  },
  {
   "cell_type": "code",
   "execution_count": 296,
   "metadata": {},
   "outputs": [
    {
     "name": "stderr",
     "output_type": "stream",
     "text": [
      "C:\\Users\\hesse\\AppData\\Local\\Temp\\ipykernel_32548\\1253071934.py:5: SettingWithCopyWarning: \n",
      "A value is trying to be set on a copy of a slice from a DataFrame.\n",
      "Try using .loc[row_indexer,col_indexer] = value instead\n",
      "\n",
      "See the caveats in the documentation: https://pandas.pydata.org/pandas-docs/stable/user_guide/indexing.html#returning-a-view-versus-a-copy\n",
      "  gtf_genes[\"gene_id\"] = gtf_genes[\"gene_id\"].str.split(\".\").str[0]\n"
     ]
    }
   ],
   "source": [
    "\n",
    "# Ensure gene_id in gtf_genes matches format\n",
    "gtf_genes[\"gene_id\"] = gtf_genes[\"gene_id\"].str.split(\".\").str[0]\n",
    "\n",
    "\n",
    "if not gtf_genes.gene_id.is_unique:\n",
    "    print(\"Duplicate gen ids!\")\n",
    "    dup_ids = gtf_genes[gtf_genes.duplicated(subset=\"gene_id\", keep=False)]\n",
    "    print(dup_ids[[\"gene_id\"]])"
   ]
  },
  {
   "cell_type": "code",
   "execution_count": 297,
   "metadata": {},
   "outputs": [
    {
     "data": {
      "text/html": [
       "<div>\n",
       "<style scoped>\n",
       "    .dataframe tbody tr th:only-of-type {\n",
       "        vertical-align: middle;\n",
       "    }\n",
       "\n",
       "    .dataframe tbody tr th {\n",
       "        vertical-align: top;\n",
       "    }\n",
       "\n",
       "    .dataframe thead th {\n",
       "        text-align: right;\n",
       "    }\n",
       "</style>\n",
       "<table border=\"1\" class=\"dataframe\">\n",
       "  <thead>\n",
       "    <tr style=\"text-align: right;\">\n",
       "      <th></th>\n",
       "      <th>Chromosome</th>\n",
       "      <th>Source</th>\n",
       "      <th>Feature</th>\n",
       "      <th>Start</th>\n",
       "      <th>End</th>\n",
       "      <th>Score</th>\n",
       "      <th>Strand</th>\n",
       "      <th>Frame</th>\n",
       "      <th>gene_id</th>\n",
       "      <th>gene_type</th>\n",
       "      <th>...</th>\n",
       "      <th>transcript_type</th>\n",
       "      <th>transcript_name</th>\n",
       "      <th>transcript_support_level</th>\n",
       "      <th>tag</th>\n",
       "      <th>havana_transcript</th>\n",
       "      <th>exon_number</th>\n",
       "      <th>exon_id</th>\n",
       "      <th>ont</th>\n",
       "      <th>protein_id</th>\n",
       "      <th>ccdsid</th>\n",
       "    </tr>\n",
       "  </thead>\n",
       "  <tbody>\n",
       "    <tr>\n",
       "      <th>0</th>\n",
       "      <td>chr1</td>\n",
       "      <td>HAVANA</td>\n",
       "      <td>gene</td>\n",
       "      <td>29553</td>\n",
       "      <td>31109</td>\n",
       "      <td>.</td>\n",
       "      <td>+</td>\n",
       "      <td>.</td>\n",
       "      <td>ENSG00000243485</td>\n",
       "      <td>lncRNA</td>\n",
       "      <td>...</td>\n",
       "      <td>NaN</td>\n",
       "      <td>NaN</td>\n",
       "      <td>NaN</td>\n",
       "      <td>ncRNA_host</td>\n",
       "      <td>NaN</td>\n",
       "      <td>NaN</td>\n",
       "      <td>NaN</td>\n",
       "      <td>NaN</td>\n",
       "      <td>NaN</td>\n",
       "      <td>NaN</td>\n",
       "    </tr>\n",
       "    <tr>\n",
       "      <th>1</th>\n",
       "      <td>chr1</td>\n",
       "      <td>HAVANA</td>\n",
       "      <td>gene</td>\n",
       "      <td>65418</td>\n",
       "      <td>71585</td>\n",
       "      <td>.</td>\n",
       "      <td>+</td>\n",
       "      <td>.</td>\n",
       "      <td>ENSG00000186092</td>\n",
       "      <td>protein_coding</td>\n",
       "      <td>...</td>\n",
       "      <td>NaN</td>\n",
       "      <td>NaN</td>\n",
       "      <td>NaN</td>\n",
       "      <td>NaN</td>\n",
       "      <td>NaN</td>\n",
       "      <td>NaN</td>\n",
       "      <td>NaN</td>\n",
       "      <td>NaN</td>\n",
       "      <td>NaN</td>\n",
       "      <td>NaN</td>\n",
       "    </tr>\n",
       "    <tr>\n",
       "      <th>2</th>\n",
       "      <td>chr1</td>\n",
       "      <td>HAVANA</td>\n",
       "      <td>gene</td>\n",
       "      <td>160445</td>\n",
       "      <td>161525</td>\n",
       "      <td>.</td>\n",
       "      <td>+</td>\n",
       "      <td>.</td>\n",
       "      <td>ENSG00000241599</td>\n",
       "      <td>lncRNA</td>\n",
       "      <td>...</td>\n",
       "      <td>NaN</td>\n",
       "      <td>NaN</td>\n",
       "      <td>NaN</td>\n",
       "      <td>NaN</td>\n",
       "      <td>NaN</td>\n",
       "      <td>NaN</td>\n",
       "      <td>NaN</td>\n",
       "      <td>NaN</td>\n",
       "      <td>NaN</td>\n",
       "      <td>NaN</td>\n",
       "    </tr>\n",
       "    <tr>\n",
       "      <th>3</th>\n",
       "      <td>chr1</td>\n",
       "      <td>HAVANA</td>\n",
       "      <td>gene</td>\n",
       "      <td>358856</td>\n",
       "      <td>366052</td>\n",
       "      <td>.</td>\n",
       "      <td>+</td>\n",
       "      <td>.</td>\n",
       "      <td>ENSG00000236601</td>\n",
       "      <td>lncRNA</td>\n",
       "      <td>...</td>\n",
       "      <td>NaN</td>\n",
       "      <td>NaN</td>\n",
       "      <td>NaN</td>\n",
       "      <td>NaN</td>\n",
       "      <td>NaN</td>\n",
       "      <td>NaN</td>\n",
       "      <td>NaN</td>\n",
       "      <td>NaN</td>\n",
       "      <td>NaN</td>\n",
       "      <td>NaN</td>\n",
       "    </tr>\n",
       "    <tr>\n",
       "      <th>4</th>\n",
       "      <td>chr1</td>\n",
       "      <td>HAVANA</td>\n",
       "      <td>gene</td>\n",
       "      <td>587628</td>\n",
       "      <td>594768</td>\n",
       "      <td>.</td>\n",
       "      <td>+</td>\n",
       "      <td>.</td>\n",
       "      <td>ENSG00000235146</td>\n",
       "      <td>lncRNA</td>\n",
       "      <td>...</td>\n",
       "      <td>NaN</td>\n",
       "      <td>NaN</td>\n",
       "      <td>NaN</td>\n",
       "      <td>NaN</td>\n",
       "      <td>NaN</td>\n",
       "      <td>NaN</td>\n",
       "      <td>NaN</td>\n",
       "      <td>NaN</td>\n",
       "      <td>NaN</td>\n",
       "      <td>NaN</td>\n",
       "    </tr>\n",
       "  </tbody>\n",
       "</table>\n",
       "<p>5 rows × 25 columns</p>\n",
       "</div>"
      ],
      "text/plain": [
       "  Chromosome  Source Feature   Start     End Score Strand Frame  \\\n",
       "0       chr1  HAVANA    gene   29553   31109     .      +     .   \n",
       "1       chr1  HAVANA    gene   65418   71585     .      +     .   \n",
       "2       chr1  HAVANA    gene  160445  161525     .      +     .   \n",
       "3       chr1  HAVANA    gene  358856  366052     .      +     .   \n",
       "4       chr1  HAVANA    gene  587628  594768     .      +     .   \n",
       "\n",
       "           gene_id       gene_type  ... transcript_type transcript_name  \\\n",
       "0  ENSG00000243485          lncRNA  ...             NaN             NaN   \n",
       "1  ENSG00000186092  protein_coding  ...             NaN             NaN   \n",
       "2  ENSG00000241599          lncRNA  ...             NaN             NaN   \n",
       "3  ENSG00000236601          lncRNA  ...             NaN             NaN   \n",
       "4  ENSG00000235146          lncRNA  ...             NaN             NaN   \n",
       "\n",
       "  transcript_support_level         tag havana_transcript exon_number exon_id  \\\n",
       "0                      NaN  ncRNA_host               NaN         NaN     NaN   \n",
       "1                      NaN         NaN               NaN         NaN     NaN   \n",
       "2                      NaN         NaN               NaN         NaN     NaN   \n",
       "3                      NaN         NaN               NaN         NaN     NaN   \n",
       "4                      NaN         NaN               NaN         NaN     NaN   \n",
       "\n",
       "   ont protein_id ccdsid  \n",
       "0  NaN        NaN    NaN  \n",
       "1  NaN        NaN    NaN  \n",
       "2  NaN        NaN    NaN  \n",
       "3  NaN        NaN    NaN  \n",
       "4  NaN        NaN    NaN  \n",
       "\n",
       "[5 rows x 25 columns]"
      ]
     },
     "execution_count": 297,
     "metadata": {},
     "output_type": "execute_result"
    }
   ],
   "source": [
    "# Merge \n",
    "gtf_genes = gtf_genes.merge(gene_anno_file[[\"gene_id\", \"gene_name\"]], on=\"gene_id\", how=\"inner\", suffixes=(\"\", \"_b\"))\n",
    "gtf_genes[\"gene_name\"] = gtf_genes[\"gene_name_b\"].combine_first(gtf_genes[\"gene_name\"])\n",
    "gtf_genes.drop(columns=[\"gene_name_b\"], inplace=True)\n",
    "\n",
    "gtf_genes.head()"
   ]
  },
  {
   "cell_type": "markdown",
   "metadata": {},
   "source": [
    "Checking duplicate genes"
   ]
  },
  {
   "cell_type": "code",
   "execution_count": 298,
   "metadata": {},
   "outputs": [
    {
     "name": "stdout",
     "output_type": "stream",
     "text": [
      "Empty DataFrame\n",
      "Columns: [gene_name, gene_id]\n",
      "Index: []\n"
     ]
    }
   ],
   "source": [
    "dup_genes = gtf_genes[gtf_genes.duplicated(subset=\"gene_name\", keep=False)]\n",
    "print(dup_genes[[\"gene_name\", \"gene_id\"]])"
   ]
  },
  {
   "cell_type": "code",
   "execution_count": 302,
   "metadata": {},
   "outputs": [
    {
     "name": "stdout",
     "output_type": "stream",
     "text": [
      "Non-mapped genes: 379\n"
     ]
    }
   ],
   "source": [
    "print(f\"Non-mapped genes: {len(gene_anno_file) - len(gtf_genes)}\")"
   ]
  },
  {
   "cell_type": "code",
   "execution_count": 307,
   "metadata": {},
   "outputs": [],
   "source": [
    "# MAGMA does not accept chrX format\n",
    "gtf_genes[\"Chromosome\"] = gtf_genes[\"Chromosome\"].str.replace(\"chr\", \"\", regex=False)"
   ]
  },
  {
   "cell_type": "markdown",
   "metadata": {},
   "source": [
    "Mapping in this manner loses 379 genes. This is not ideal, but maybe expected since this reference file is based on build 37, while the annotation file is based on build 38."
   ]
  },
  {
   "cell_type": "code",
   "execution_count": 308,
   "metadata": {},
   "outputs": [],
   "source": [
    "# Format and writ to file\n",
    "gtf_genes[ [ \"gene_name\", \"Chromosome\", \"Start\", \"End\", \"Strand\"] ].to_csv(MAGMA_DIR / \"GRCh37_GENELOC.tsv\", sep=\"\\t\", header=None, index=None)"
   ]
  },
  {
   "cell_type": "markdown",
   "metadata": {},
   "source": [
    "# <b>3. MAGMA"
   ]
  },
  {
   "cell_type": "code",
   "execution_count": 4,
   "metadata": {},
   "outputs": [],
   "source": [
    "TRAITS = [\n",
    "    \"mono_p\",\n",
    "    \"mono_c\",\n",
    "    \"P-mono_c\",\n",
    "    \"P-mono_p\",\n",
    "    \"N-mono_p\",\n",
    "    \"N-mono_c\",\n",
    "]\n",
    "geneloc_file = MAGMA_DIR / \"gene_locations\" / \"GRCh38_GENELOC.tsv\"\n",
    "window = \"5,5\""
   ]
  },
  {
   "cell_type": "markdown",
   "metadata": {},
   "source": [
    "### Gene window analysis"
   ]
  },
  {
   "cell_type": "code",
   "execution_count": 64,
   "metadata": {},
   "outputs": [
    {
     "name": "stdout",
     "output_type": "stream",
     "text": [
      "Running analysis for ../Data/MAGMA/snp_locations/mono_p_SNPLOC.tsv\n"
     ]
    },
    {
     "data": {
      "text/html": [
       "<style type=\"text/css\">\n",
       "</style>\n",
       "<table id=\"T_c03b3\">\n",
       "  <caption>Annotation results for mono_p</caption>\n",
       "  <thead>\n",
       "    <tr>\n",
       "      <th class=\"blank level0\" >&nbsp;</th>\n",
       "      <th id=\"T_c03b3_level0_col0\" class=\"col_heading level0 col0\" >Window size</th>\n",
       "      <th id=\"T_c03b3_level0_col1\" class=\"col_heading level0 col1\" >Mapped SNPs</th>\n",
       "      <th id=\"T_c03b3_level0_col2\" class=\"col_heading level0 col2\" >Mapped genes (total genes)</th>\n",
       "    </tr>\n",
       "  </thead>\n",
       "  <tbody>\n",
       "    <tr>\n",
       "      <th id=\"T_c03b3_level0_row0\" class=\"row_heading level0 row0\" >0</th>\n",
       "      <td id=\"T_c03b3_row0_col0\" class=\"data row0 col0\" >0,0</td>\n",
       "      <td id=\"T_c03b3_row0_col1\" class=\"data row0 col1\" >4,878,836 (52.63%)</td>\n",
       "      <td id=\"T_c03b3_row0_col2\" class=\"data row0 col2\" >30,876 (33,461)</td>\n",
       "    </tr>\n",
       "    <tr>\n",
       "      <th id=\"T_c03b3_level0_row1\" class=\"row_heading level0 row1\" >1</th>\n",
       "      <td id=\"T_c03b3_row1_col0\" class=\"data row1 col0\" >5,5</td>\n",
       "      <td id=\"T_c03b3_row1_col1\" class=\"data row1 col1\" >5,419,908 (58.47%)</td>\n",
       "      <td id=\"T_c03b3_row1_col2\" class=\"data row1 col2\" >31,877 (33,461)</td>\n",
       "    </tr>\n",
       "    <tr>\n",
       "      <th id=\"T_c03b3_level0_row2\" class=\"row_heading level0 row2\" >2</th>\n",
       "      <td id=\"T_c03b3_row2_col0\" class=\"data row2 col0\" >10,10</td>\n",
       "      <td id=\"T_c03b3_row2_col1\" class=\"data row2 col1\" >5,815,727 (62.74%)</td>\n",
       "      <td id=\"T_c03b3_row2_col2\" class=\"data row2 col2\" >31,951 (33,461)</td>\n",
       "    </tr>\n",
       "  </tbody>\n",
       "</table>\n"
      ],
      "text/plain": [
       "<pandas.io.formats.style.Styler at 0x7f104f136250>"
      ]
     },
     "metadata": {},
     "output_type": "display_data"
    },
    {
     "name": "stdout",
     "output_type": "stream",
     "text": [
      "============================================================\n",
      "Running analysis for ../Data/MAGMA/snp_locations/mono_c_SNPLOC.tsv\n"
     ]
    },
    {
     "data": {
      "text/html": [
       "<style type=\"text/css\">\n",
       "</style>\n",
       "<table id=\"T_c2228\">\n",
       "  <caption>Annotation results for mono_c</caption>\n",
       "  <thead>\n",
       "    <tr>\n",
       "      <th class=\"blank level0\" >&nbsp;</th>\n",
       "      <th id=\"T_c2228_level0_col0\" class=\"col_heading level0 col0\" >Window size</th>\n",
       "      <th id=\"T_c2228_level0_col1\" class=\"col_heading level0 col1\" >Mapped SNPs</th>\n",
       "      <th id=\"T_c2228_level0_col2\" class=\"col_heading level0 col2\" >Mapped genes (total genes)</th>\n",
       "    </tr>\n",
       "  </thead>\n",
       "  <tbody>\n",
       "    <tr>\n",
       "      <th id=\"T_c2228_level0_row0\" class=\"row_heading level0 row0\" >0</th>\n",
       "      <td id=\"T_c2228_row0_col0\" class=\"data row0 col0\" >0,0</td>\n",
       "      <td id=\"T_c2228_row0_col1\" class=\"data row0 col1\" >4,672,781 (52.54%)</td>\n",
       "      <td id=\"T_c2228_row0_col2\" class=\"data row0 col2\" >30,855 (33,461)</td>\n",
       "    </tr>\n",
       "    <tr>\n",
       "      <th id=\"T_c2228_level0_row1\" class=\"row_heading level0 row1\" >1</th>\n",
       "      <td id=\"T_c2228_row1_col0\" class=\"data row1 col0\" >5,5</td>\n",
       "      <td id=\"T_c2228_row1_col1\" class=\"data row1 col1\" >5,190,414 (58.36%)</td>\n",
       "      <td id=\"T_c2228_row1_col2\" class=\"data row1 col2\" >31,882 (33,461)</td>\n",
       "    </tr>\n",
       "    <tr>\n",
       "      <th id=\"T_c2228_level0_row2\" class=\"row_heading level0 row2\" >2</th>\n",
       "      <td id=\"T_c2228_row2_col0\" class=\"data row2 col0\" >10,10</td>\n",
       "      <td id=\"T_c2228_row2_col1\" class=\"data row2 col1\" >5,569,525 (62.63%)</td>\n",
       "      <td id=\"T_c2228_row2_col2\" class=\"data row2 col2\" >31,958 (33,461)</td>\n",
       "    </tr>\n",
       "  </tbody>\n",
       "</table>\n"
      ],
      "text/plain": [
       "<pandas.io.formats.style.Styler at 0x7f104f2a82e0>"
      ]
     },
     "metadata": {},
     "output_type": "display_data"
    },
    {
     "name": "stdout",
     "output_type": "stream",
     "text": [
      "============================================================\n",
      "Running analysis for ../Data/MAGMA/snp_locations/P-mono_c_SNPLOC.tsv\n"
     ]
    },
    {
     "data": {
      "text/html": [
       "<style type=\"text/css\">\n",
       "</style>\n",
       "<table id=\"T_6e29a\">\n",
       "  <caption>Annotation results for P-mono_c</caption>\n",
       "  <thead>\n",
       "    <tr>\n",
       "      <th class=\"blank level0\" >&nbsp;</th>\n",
       "      <th id=\"T_6e29a_level0_col0\" class=\"col_heading level0 col0\" >Window size</th>\n",
       "      <th id=\"T_6e29a_level0_col1\" class=\"col_heading level0 col1\" >Mapped SNPs</th>\n",
       "      <th id=\"T_6e29a_level0_col2\" class=\"col_heading level0 col2\" >Mapped genes (total genes)</th>\n",
       "    </tr>\n",
       "  </thead>\n",
       "  <tbody>\n",
       "    <tr>\n",
       "      <th id=\"T_6e29a_level0_row0\" class=\"row_heading level0 row0\" >0</th>\n",
       "      <td id=\"T_6e29a_row0_col0\" class=\"data row0 col0\" >0,0</td>\n",
       "      <td id=\"T_6e29a_row0_col1\" class=\"data row0 col1\" >2,322,945 (52.45%)</td>\n",
       "      <td id=\"T_6e29a_row0_col2\" class=\"data row0 col2\" >29,436 (33,461)</td>\n",
       "    </tr>\n",
       "    <tr>\n",
       "      <th id=\"T_6e29a_level0_row1\" class=\"row_heading level0 row1\" >1</th>\n",
       "      <td id=\"T_6e29a_row1_col0\" class=\"data row1 col0\" >5,5</td>\n",
       "      <td id=\"T_6e29a_row1_col1\" class=\"data row1 col1\" >2,580,791 (58.27%)</td>\n",
       "      <td id=\"T_6e29a_row1_col2\" class=\"data row1 col2\" >31,775 (33,461)</td>\n",
       "    </tr>\n",
       "    <tr>\n",
       "      <th id=\"T_6e29a_level0_row2\" class=\"row_heading level0 row2\" >2</th>\n",
       "      <td id=\"T_6e29a_row2_col0\" class=\"data row2 col0\" >10,10</td>\n",
       "      <td id=\"T_6e29a_row2_col1\" class=\"data row2 col1\" >2,769,763 (62.54%)</td>\n",
       "      <td id=\"T_6e29a_row2_col2\" class=\"data row2 col2\" >31,883 (33,461)</td>\n",
       "    </tr>\n",
       "  </tbody>\n",
       "</table>\n"
      ],
      "text/plain": [
       "<pandas.io.formats.style.Styler at 0x7f1050e4eac0>"
      ]
     },
     "metadata": {},
     "output_type": "display_data"
    },
    {
     "name": "stdout",
     "output_type": "stream",
     "text": [
      "============================================================\n",
      "Running analysis for ../Data/MAGMA/snp_locations/P-mono_p_SNPLOC.tsv\n"
     ]
    },
    {
     "data": {
      "text/html": [
       "<style type=\"text/css\">\n",
       "</style>\n",
       "<table id=\"T_384f9\">\n",
       "  <caption>Annotation results for P-mono_p</caption>\n",
       "  <thead>\n",
       "    <tr>\n",
       "      <th class=\"blank level0\" >&nbsp;</th>\n",
       "      <th id=\"T_384f9_level0_col0\" class=\"col_heading level0 col0\" >Window size</th>\n",
       "      <th id=\"T_384f9_level0_col1\" class=\"col_heading level0 col1\" >Mapped SNPs</th>\n",
       "      <th id=\"T_384f9_level0_col2\" class=\"col_heading level0 col2\" >Mapped genes (total genes)</th>\n",
       "    </tr>\n",
       "  </thead>\n",
       "  <tbody>\n",
       "    <tr>\n",
       "      <th id=\"T_384f9_level0_row0\" class=\"row_heading level0 row0\" >0</th>\n",
       "      <td id=\"T_384f9_row0_col0\" class=\"data row0 col0\" >0,0</td>\n",
       "      <td id=\"T_384f9_row0_col1\" class=\"data row0 col1\" >2,425,117 (52.62%)</td>\n",
       "      <td id=\"T_384f9_row0_col2\" class=\"data row0 col2\" >29,547 (33,461)</td>\n",
       "    </tr>\n",
       "    <tr>\n",
       "      <th id=\"T_384f9_level0_row1\" class=\"row_heading level0 row1\" >1</th>\n",
       "      <td id=\"T_384f9_row1_col0\" class=\"data row1 col0\" >5,5</td>\n",
       "      <td id=\"T_384f9_row1_col1\" class=\"data row1 col1\" >2,691,913 (58.41%)</td>\n",
       "      <td id=\"T_384f9_row1_col2\" class=\"data row1 col2\" >31,797 (33,461)</td>\n",
       "    </tr>\n",
       "    <tr>\n",
       "      <th id=\"T_384f9_level0_row2\" class=\"row_heading level0 row2\" >2</th>\n",
       "      <td id=\"T_384f9_row2_col0\" class=\"data row2 col0\" >10,10</td>\n",
       "      <td id=\"T_384f9_row2_col1\" class=\"data row2 col1\" >2,888,139 (62.66%)</td>\n",
       "      <td id=\"T_384f9_row2_col2\" class=\"data row2 col2\" >31,891 (33,461)</td>\n",
       "    </tr>\n",
       "  </tbody>\n",
       "</table>\n"
      ],
      "text/plain": [
       "<pandas.io.formats.style.Styler at 0x7f104f1fe340>"
      ]
     },
     "metadata": {},
     "output_type": "display_data"
    },
    {
     "name": "stdout",
     "output_type": "stream",
     "text": [
      "============================================================\n"
     ]
    }
   ],
   "source": [
    "window_sizes = [\"0,0\", \"5,5\", \"10,10\"]\n",
    "\n",
    "for snploc_file, trait in iterate_trait_files(MAGMA_DIR / \"snp_locations\", TRAITS):\n",
    "    annotation_results = run_window_analysis(\n",
    "        snploc_file=snploc_file,\n",
    "        geneloc_file=geneloc_file,\n",
    "        window_sizes=window_sizes\n",
    "    )\n",
    "    \n",
    "    display(annotation_results.style.set_caption(f\"Annotation results for {trait}\"))\n",
    "    print(\"=\" * 60)"
   ]
  },
  {
   "cell_type": "markdown",
   "metadata": {},
   "source": [
    "### Create gene annotation file"
   ]
  },
  {
   "cell_type": "code",
   "execution_count": 9,
   "metadata": {
    "scrolled": true
   },
   "outputs": [
    {
     "name": "stdout",
     "output_type": "stream",
     "text": [
      "Processing trait: mono_p...\n",
      "Welcome to MAGMA v1.10 (linux/s)\n",
      "Using flags:\n",
      "\t--annotate window=5,5\n",
      "\t--snp-loc ../Data/MAGMA/snp_locations/mono_p_SNPLOC.tsv\n",
      "\t--gene-loc ../Data/MAGMA/gene_locations/GRCh38_GENELOC.tsv\n",
      "\t--out ../Data/MAGMA/gene_annotations/5,5window/mono_p\n",
      "\n",
      "Start time is 12:31:43, Wednesday 19 Mar 2025\n",
      "\n",
      "Starting annotation...\n",
      "Reading gene locations from file ../Data/MAGMA/gene_locations/GRCh38_GENELOC.tsv... \n",
      "\tadding window: 5000bp\n",
      "\t33461 gene locations read from file\n",
      "\tchromosome  1: 3150 genes\n",
      "\tchromosome  2: 2281 genes\n",
      "\tchromosome  3: 1709 genes\n",
      "\tchromosome  4: 1353 genes\n",
      "\tchromosome  5: 1659 genes\n",
      "\tchromosome  6: 1630 genes\n",
      "\tchromosome  7: 1535 genes\n",
      "\tchromosome  8: 1318 genes\n",
      "\tchromosome  9: 1226 genes\n",
      "\tchromosome 10: 1228 genes\n",
      "\tchromosome 11: 1919 genes\n",
      "\tchromosome 12: 1761 genes\n",
      "\tchromosome 13: 666 genes\n",
      "\tchromosome 14: 1385 genes\n",
      "\tchromosome 15: 1133 genes\n",
      "\tchromosome 16: 1529 genes\n",
      "\tchromosome 17: 1894 genes\n",
      "\tchromosome 18: 662 genes\n",
      "\tchromosome 19: 2004 genes\n",
      "\tchromosome 20: 895 genes\n",
      "\tchromosome 21: 500 genes\n",
      "\tchromosome 22: 835 genes\n",
      "\tchromosome  X: 1076 genes\n",
      "\tchromosome  Y: 100 genes\n",
      "\tchromosome MT: 13 genes\n",
      "Reading SNP locations from file ../Data/MAGMA/snp_locations/mono_p_SNPLOC.tsv... \n",
      "\tSNPs mapped so far: 364988\n",
      "\tSNPs mapped so far: 737241\n",
      "\tSNPs mapped so far: 1086099\n",
      "\tSNPs mapped so far: 1525939\n",
      "\tSNPs mapped so far: 1931606\n",
      "\tSNPs mapped so far: 2316025\n",
      "\tSNPs mapped so far: 2712388\n",
      "\tSNPs mapped so far: 3083734\n",
      "\tSNPs mapped so far: 3461859\n",
      "\tSNPs mapped so far: 3813157\n",
      "\tSNPs mapped so far: 4163844\n",
      "\tSNPs mapped so far: 4523884\n",
      "\tSNPs mapped so far: 4864356\n",
      "\tSNPs mapped so far: 5234261\n",
      "                                                                                                 \n",
      "\t9270230 SNP locations read from file\n",
      "\tof those, 5419908 (58.47%) mapped to at least one gene\n",
      "Writing annotation to file ../Data/MAGMA/gene_annotations/5,5window/mono_p.genes.annot\n",
      "\tfor chromosome  1, 44 genes are empty (out of 3150)\n",
      "\tfor chromosome  2, 24 genes are empty (out of 2281)\n",
      "\tfor chromosome  4, 20 genes are empty (out of 1353)\n",
      "\tfor chromosome  5, 9 genes are empty (out of 1659)\n",
      "\tfor chromosome  6, 3 genes are empty (out of 1630)\n",
      "\tfor chromosome  7, 16 genes are empty (out of 1535)\n",
      "\tfor chromosome  8, 13 genes are empty (out of 1318)\n",
      "\tfor chromosome  9, 47 genes are empty (out of 1226)\n",
      "\tfor chromosome 10, 8 genes are empty (out of 1228)\n",
      "\tfor chromosome 11, 7 genes are empty (out of 1919)\n",
      "\tfor chromosome 13, 2 genes are empty (out of 666)\n",
      "\tfor chromosome 14, 39 genes are empty (out of 1385)\n",
      "\tfor chromosome 15, 39 genes are empty (out of 1133)\n",
      "\tfor chromosome 16, 25 genes are empty (out of 1529)\n",
      "\tfor chromosome 17, 24 genes are empty (out of 1894)\n",
      "\tfor chromosome 19, 3 genes are empty (out of 2004)\n",
      "\tfor chromosome 21, 61 genes are empty (out of 500)\n",
      "\tfor chromosome 22, 11 genes are empty (out of 835)\n",
      "\tfor chromosome  X, 1076 genes are empty (out of 1076)\n",
      "\tfor chromosome  Y, 100 genes are empty (out of 100)\n",
      "\tfor chromosome MT, 13 genes are empty (out of 13)\n",
      "\tat least one SNP mapped to each of a total of 31877 genes (out of 33461)\n",
      "\n",
      "\n",
      "End time is 12:31:58, Wednesday 19 Mar 2025 (elapsed: 00:00:15)\n",
      "\n",
      "==========================================================================================\n",
      "Processing trait: mono_c...\n",
      "Welcome to MAGMA v1.10 (linux/s)\n",
      "Using flags:\n",
      "\t--annotate window=5,5\n",
      "\t--snp-loc ../Data/MAGMA/snp_locations/mono_c_SNPLOC.tsv\n",
      "\t--gene-loc ../Data/MAGMA/gene_locations/GRCh38_GENELOC.tsv\n",
      "\t--out ../Data/MAGMA/gene_annotations/5,5window/mono_c\n",
      "\n",
      "Start time is 12:31:58, Wednesday 19 Mar 2025\n",
      "\n",
      "Starting annotation...\n",
      "Reading gene locations from file ../Data/MAGMA/gene_locations/GRCh38_GENELOC.tsv... \n",
      "\tadding window: 5000bp\n",
      "\t33461 gene locations read from file\n",
      "\tchromosome  1: 3150 genes\n",
      "\tchromosome  2: 2281 genes\n",
      "\tchromosome  3: 1709 genes\n",
      "\tchromosome  4: 1353 genes\n",
      "\tchromosome  5: 1659 genes\n",
      "\tchromosome  6: 1630 genes\n",
      "\tchromosome  7: 1535 genes\n",
      "\tchromosome  8: 1318 genes\n",
      "\tchromosome  9: 1226 genes\n",
      "\tchromosome 10: 1228 genes\n",
      "\tchromosome 11: 1919 genes\n",
      "\tchromosome 12: 1761 genes\n",
      "\tchromosome 13: 666 genes\n",
      "\tchromosome 14: 1385 genes\n",
      "\tchromosome 15: 1133 genes\n",
      "\tchromosome 16: 1529 genes\n",
      "\tchromosome 17: 1894 genes\n",
      "\tchromosome 18: 662 genes\n",
      "\tchromosome 19: 2004 genes\n",
      "\tchromosome 20: 895 genes\n",
      "\tchromosome 21: 500 genes\n",
      "\tchromosome 22: 835 genes\n",
      "\tchromosome  X: 1076 genes\n",
      "\tchromosome  Y: 100 genes\n",
      "\tchromosome MT: 13 genes\n",
      "Reading SNP locations from file ../Data/MAGMA/snp_locations/mono_c_SNPLOC.tsv... \n",
      "\tSNPs mapped so far: 363313\n",
      "\tSNPs mapped so far: 745883\n",
      "\tSNPs mapped so far: 1096243\n",
      "\tSNPs mapped so far: 1544600\n",
      "\tSNPs mapped so far: 1944480\n",
      "\tSNPs mapped so far: 2317995\n",
      "\tSNPs mapped so far: 2702309\n",
      "\tSNPs mapped so far: 3072034\n",
      "\tSNPs mapped so far: 3457094\n",
      "\tSNPs mapped so far: 3776681\n",
      "\tSNPs mapped so far: 4120437\n",
      "\tSNPs mapped so far: 4465939\n",
      "\tSNPs mapped so far: 4843077\n",
      "                                                                                                 \n",
      "\t8893396 SNP locations read from file\n",
      "\tof those, 5190414 (58.36%) mapped to at least one gene\n",
      "Writing annotation to file ../Data/MAGMA/gene_annotations/5,5window/mono_c.genes.annot\n",
      "\tfor chromosome  1, 42 genes are empty (out of 3150)\n",
      "\tfor chromosome  2, 25 genes are empty (out of 2281)\n",
      "\tfor chromosome  4, 20 genes are empty (out of 1353)\n",
      "\tfor chromosome  5, 9 genes are empty (out of 1659)\n",
      "\tfor chromosome  6, 3 genes are empty (out of 1630)\n",
      "\tfor chromosome  7, 16 genes are empty (out of 1535)\n",
      "\tfor chromosome  8, 14 genes are empty (out of 1318)\n",
      "\tfor chromosome  9, 46 genes are empty (out of 1226)\n",
      "\tfor chromosome 10, 6 genes are empty (out of 1228)\n",
      "\tfor chromosome 11, 7 genes are empty (out of 1919)\n",
      "\tfor chromosome 13, 2 genes are empty (out of 666)\n",
      "\tfor chromosome 14, 39 genes are empty (out of 1385)\n",
      "\tfor chromosome 15, 39 genes are empty (out of 1133)\n",
      "\tfor chromosome 16, 25 genes are empty (out of 1529)\n",
      "\tfor chromosome 17, 24 genes are empty (out of 1894)\n",
      "\tfor chromosome 19, 2 genes are empty (out of 2004)\n",
      "\tfor chromosome 21, 61 genes are empty (out of 500)\n",
      "\tfor chromosome 22, 10 genes are empty (out of 835)\n",
      "\tfor chromosome  X, 1076 genes are empty (out of 1076)\n",
      "\tfor chromosome  Y, 100 genes are empty (out of 100)\n",
      "\tfor chromosome MT, 13 genes are empty (out of 13)\n",
      "\tat least one SNP mapped to each of a total of 31882 genes (out of 33461)\n",
      "\n",
      "\n",
      "End time is 12:32:13, Wednesday 19 Mar 2025 (elapsed: 00:00:15)\n",
      "\n",
      "==========================================================================================\n",
      "Processing trait: P-mono_c...\n",
      "Welcome to MAGMA v1.10 (linux/s)\n",
      "Using flags:\n",
      "\t--annotate window=5,5\n",
      "\t--snp-loc ../Data/MAGMA/snp_locations/P-mono_c_SNPLOC.tsv\n",
      "\t--gene-loc ../Data/MAGMA/gene_locations/GRCh38_GENELOC.tsv\n",
      "\t--out ../Data/MAGMA/gene_annotations/5,5window/P-mono_c\n",
      "\n",
      "Start time is 12:32:13, Wednesday 19 Mar 2025\n",
      "\n",
      "Starting annotation...\n",
      "Reading gene locations from file ../Data/MAGMA/gene_locations/GRCh38_GENELOC.tsv... \n",
      "\tadding window: 5000bp\n",
      "\t33461 gene locations read from file\n",
      "\tchromosome  1: 3150 genes\n",
      "\tchromosome  2: 2281 genes\n",
      "\tchromosome  3: 1709 genes\n",
      "\tchromosome  4: 1353 genes\n",
      "\tchromosome  5: 1659 genes\n",
      "\tchromosome  6: 1630 genes\n",
      "\tchromosome  7: 1535 genes\n",
      "\tchromosome  8: 1318 genes\n",
      "\tchromosome  9: 1226 genes\n",
      "\tchromosome 10: 1228 genes\n",
      "\tchromosome 11: 1919 genes\n",
      "\tchromosome 12: 1761 genes\n",
      "\tchromosome 13: 666 genes\n",
      "\tchromosome 14: 1385 genes\n",
      "\tchromosome 15: 1133 genes\n",
      "\tchromosome 16: 1529 genes\n",
      "\tchromosome 17: 1894 genes\n",
      "\tchromosome 18: 662 genes\n",
      "\tchromosome 19: 2004 genes\n",
      "\tchromosome 20: 895 genes\n",
      "\tchromosome 21: 500 genes\n",
      "\tchromosome 22: 835 genes\n",
      "\tchromosome  X: 1076 genes\n",
      "\tchromosome  Y: 100 genes\n",
      "\tchromosome MT: 13 genes\n",
      "Reading SNP locations from file ../Data/MAGMA/snp_locations/P-mono_c_SNPLOC.tsv... \n",
      "\tSNPs mapped so far: 369914\n",
      "\tSNPs mapped so far: 770220\n",
      "\tSNPs mapped so far: 1158756\n",
      "\tSNPs mapped so far: 1532818\n",
      "\tSNPs mapped so far: 1888903\n",
      "\tSNPs mapped so far: 2235079\n",
      "                                                                                                 \n",
      "\t4428673 SNP locations read from file\n",
      "\tof those, 2580791 (58.27%) mapped to at least one gene\n",
      "Writing annotation to file ../Data/MAGMA/gene_annotations/5,5window/P-mono_c.genes.annot\n",
      "\tfor chromosome  1, 56 genes are empty (out of 3150)\n",
      "\tfor chromosome  2, 31 genes are empty (out of 2281)\n",
      "\tfor chromosome  3, 2 genes are empty (out of 1709)\n",
      "\tfor chromosome  4, 23 genes are empty (out of 1353)\n",
      "\tfor chromosome  5, 16 genes are empty (out of 1659)\n",
      "\tfor chromosome  6, 7 genes are empty (out of 1630)\n",
      "\tfor chromosome  7, 20 genes are empty (out of 1535)\n",
      "\tfor chromosome  8, 20 genes are empty (out of 1318)\n",
      "\tfor chromosome  9, 49 genes are empty (out of 1226)\n",
      "\tfor chromosome 10, 8 genes are empty (out of 1228)\n",
      "\tfor chromosome 11, 8 genes are empty (out of 1919)\n",
      "\tfor chromosome 12, 1 gene is empty (out of 1761)\n",
      "\tfor chromosome 13, 2 genes are empty (out of 666)\n",
      "\tfor chromosome 14, 45 genes are empty (out of 1385)\n",
      "\tfor chromosome 15, 56 genes are empty (out of 1133)\n",
      "\tfor chromosome 16, 35 genes are empty (out of 1529)\n",
      "\tfor chromosome 17, 30 genes are empty (out of 1894)\n",
      "\tfor chromosome 18, 1 gene is empty (out of 662)\n",
      "\tfor chromosome 19, 4 genes are empty (out of 2004)\n",
      "\tfor chromosome 21, 70 genes are empty (out of 500)\n",
      "\tfor chromosome 22, 13 genes are empty (out of 835)\n",
      "\tfor chromosome  X, 1076 genes are empty (out of 1076)\n",
      "\tfor chromosome  Y, 100 genes are empty (out of 100)\n",
      "\tfor chromosome MT, 13 genes are empty (out of 13)\n",
      "\tat least one SNP mapped to each of a total of 31775 genes (out of 33461)\n",
      "\n",
      "\n",
      "End time is 12:32:20, Wednesday 19 Mar 2025 (elapsed: 00:00:07)\n",
      "\n",
      "==========================================================================================\n",
      "Processing trait: P-mono_p...\n",
      "Welcome to MAGMA v1.10 (linux/s)\n",
      "Using flags:\n",
      "\t--annotate window=5,5\n",
      "\t--snp-loc ../Data/MAGMA/snp_locations/P-mono_p_SNPLOC.tsv\n",
      "\t--gene-loc ../Data/MAGMA/gene_locations/GRCh38_GENELOC.tsv\n",
      "\t--out ../Data/MAGMA/gene_annotations/5,5window/P-mono_p\n",
      "\n",
      "Start time is 12:32:20, Wednesday 19 Mar 2025\n",
      "\n",
      "Starting annotation...\n",
      "Reading gene locations from file ../Data/MAGMA/gene_locations/GRCh38_GENELOC.tsv... \n",
      "\tadding window: 5000bp\n",
      "\t33461 gene locations read from file\n",
      "\tchromosome  1: 3150 genes\n",
      "\tchromosome  2: 2281 genes\n",
      "\tchromosome  3: 1709 genes\n",
      "\tchromosome  4: 1353 genes\n",
      "\tchromosome  5: 1659 genes\n",
      "\tchromosome  6: 1630 genes\n",
      "\tchromosome  7: 1535 genes\n",
      "\tchromosome  8: 1318 genes\n",
      "\tchromosome  9: 1226 genes\n",
      "\tchromosome 10: 1228 genes\n",
      "\tchromosome 11: 1919 genes\n",
      "\tchromosome 12: 1761 genes\n",
      "\tchromosome 13: 666 genes\n",
      "\tchromosome 14: 1385 genes\n",
      "\tchromosome 15: 1133 genes\n",
      "\tchromosome 16: 1529 genes\n",
      "\tchromosome 17: 1894 genes\n",
      "\tchromosome 18: 662 genes\n",
      "\tchromosome 19: 2004 genes\n",
      "\tchromosome 20: 895 genes\n",
      "\tchromosome 21: 500 genes\n",
      "\tchromosome 22: 835 genes\n",
      "\tchromosome  X: 1076 genes\n",
      "\tchromosome  Y: 100 genes\n",
      "\tchromosome MT: 13 genes\n",
      "Reading SNP locations from file ../Data/MAGMA/snp_locations/P-mono_p_SNPLOC.tsv... \n",
      "\tSNPs mapped so far: 361720\n",
      "\tSNPs mapped so far: 754302\n",
      "\tSNPs mapped so far: 1150026\n",
      "\tSNPs mapped so far: 1533976\n",
      "\tSNPs mapped so far: 1898384\n",
      "\tSNPs mapped so far: 2253816\n",
      "\tSNPs mapped so far: 2616595\n",
      "                                                                                                 \n",
      "\t4609002 SNP locations read from file\n",
      "\tof those, 2691913 (58.41%) mapped to at least one gene\n",
      "Writing annotation to file ../Data/MAGMA/gene_annotations/5,5window/P-mono_p.genes.annot\n",
      "\tfor chromosome  1, 56 genes are empty (out of 3150)\n",
      "\tfor chromosome  2, 31 genes are empty (out of 2281)\n",
      "\tfor chromosome  4, 23 genes are empty (out of 1353)\n",
      "\tfor chromosome  5, 12 genes are empty (out of 1659)\n",
      "\tfor chromosome  6, 7 genes are empty (out of 1630)\n",
      "\tfor chromosome  7, 19 genes are empty (out of 1535)\n",
      "\tfor chromosome  8, 21 genes are empty (out of 1318)\n",
      "\tfor chromosome  9, 48 genes are empty (out of 1226)\n",
      "\tfor chromosome 10, 10 genes are empty (out of 1228)\n",
      "\tfor chromosome 11, 7 genes are empty (out of 1919)\n",
      "\tfor chromosome 13, 2 genes are empty (out of 666)\n",
      "\tfor chromosome 14, 44 genes are empty (out of 1385)\n",
      "\tfor chromosome 15, 46 genes are empty (out of 1133)\n",
      "\tfor chromosome 16, 31 genes are empty (out of 1529)\n",
      "\tfor chromosome 17, 27 genes are empty (out of 1894)\n",
      "\tfor chromosome 19, 9 genes are empty (out of 2004)\n",
      "\tfor chromosome 20, 1 gene is empty (out of 895)\n",
      "\tfor chromosome 21, 65 genes are empty (out of 500)\n",
      "\tfor chromosome 22, 16 genes are empty (out of 835)\n",
      "\tfor chromosome  X, 1076 genes are empty (out of 1076)\n",
      "\tfor chromosome  Y, 100 genes are empty (out of 100)\n",
      "\tfor chromosome MT, 13 genes are empty (out of 13)\n",
      "\tat least one SNP mapped to each of a total of 31797 genes (out of 33461)\n",
      "\n",
      "\n",
      "End time is 12:32:28, Wednesday 19 Mar 2025 (elapsed: 00:00:08)\n",
      "\n",
      "==========================================================================================\n",
      "Processing trait: N-mono_p...\n",
      "Welcome to MAGMA v1.10 (linux/s)\n",
      "Using flags:\n",
      "\t--annotate window=5,5\n",
      "\t--snp-loc ../Data/MAGMA/snp_locations/N-mono_p_SNPLOC.tsv\n",
      "\t--gene-loc ../Data/MAGMA/gene_locations/GRCh38_GENELOC.tsv\n",
      "\t--out ../Data/MAGMA/gene_annotations/5,5window/N-mono_p\n",
      "\n",
      "Start time is 12:32:28, Wednesday 19 Mar 2025\n",
      "\n",
      "Starting annotation...\n",
      "Reading gene locations from file ../Data/MAGMA/gene_locations/GRCh38_GENELOC.tsv... \n",
      "\tadding window: 5000bp\n",
      "\t33461 gene locations read from file\n",
      "\tchromosome  1: 3150 genes\n",
      "\tchromosome  2: 2281 genes\n",
      "\tchromosome  3: 1709 genes\n",
      "\tchromosome  4: 1353 genes\n",
      "\tchromosome  5: 1659 genes\n",
      "\tchromosome  6: 1630 genes\n",
      "\tchromosome  7: 1535 genes\n",
      "\tchromosome  8: 1318 genes\n",
      "\tchromosome  9: 1226 genes\n",
      "\tchromosome 10: 1228 genes\n",
      "\tchromosome 11: 1919 genes\n",
      "\tchromosome 12: 1761 genes\n",
      "\tchromosome 13: 666 genes\n",
      "\tchromosome 14: 1385 genes\n",
      "\tchromosome 15: 1133 genes\n",
      "\tchromosome 16: 1529 genes\n",
      "\tchromosome 17: 1894 genes\n",
      "\tchromosome 18: 662 genes\n",
      "\tchromosome 19: 2004 genes\n",
      "\tchromosome 20: 895 genes\n",
      "\tchromosome 21: 500 genes\n",
      "\tchromosome 22: 835 genes\n",
      "\tchromosome  X: 1076 genes\n",
      "\tchromosome  Y: 100 genes\n",
      "\tchromosome MT: 13 genes\n",
      "Reading SNP locations from file ../Data/MAGMA/snp_locations/N-mono_p_SNPLOC.tsv... \n",
      "\tSNPs mapped so far: 370074\n",
      "\tSNPs mapped so far: 761560\n",
      "\tSNPs mapped so far: 1158264\n",
      "\tSNPs mapped so far: 1546307\n",
      "\tSNPs mapped so far: 1911079\n",
      "\tSNPs mapped so far: 2266183\n",
      "\tSNPs mapped so far: 2625235\n",
      "                                                                                                 \n",
      "\t4661228 SNP locations read from file\n",
      "\tof those, 2727995 (58.53%) mapped to at least one gene\n",
      "Writing annotation to file ../Data/MAGMA/gene_annotations/5,5window/N-mono_p.genes.annot\n",
      "\tfor chromosome  1, 54 genes are empty (out of 3150)\n",
      "\tfor chromosome  2, 30 genes are empty (out of 2281)\n",
      "\tfor chromosome  4, 22 genes are empty (out of 1353)\n",
      "\tfor chromosome  5, 10 genes are empty (out of 1659)\n",
      "\tfor chromosome  6, 3 genes are empty (out of 1630)\n",
      "\tfor chromosome  7, 20 genes are empty (out of 1535)\n",
      "\tfor chromosome  8, 22 genes are empty (out of 1318)\n",
      "\tfor chromosome  9, 53 genes are empty (out of 1226)\n",
      "\tfor chromosome 10, 8 genes are empty (out of 1228)\n",
      "\tfor chromosome 11, 8 genes are empty (out of 1919)\n",
      "\tfor chromosome 12, 2 genes are empty (out of 1761)\n",
      "\tfor chromosome 13, 3 genes are empty (out of 666)\n",
      "\tfor chromosome 14, 44 genes are empty (out of 1385)\n",
      "\tfor chromosome 15, 43 genes are empty (out of 1133)\n",
      "\tfor chromosome 16, 34 genes are empty (out of 1529)\n",
      "\tfor chromosome 17, 28 genes are empty (out of 1894)\n",
      "\tfor chromosome 18, 3 genes are empty (out of 662)\n",
      "\tfor chromosome 19, 3 genes are empty (out of 2004)\n",
      "\tfor chromosome 21, 66 genes are empty (out of 500)\n",
      "\tfor chromosome 22, 13 genes are empty (out of 835)\n",
      "\tfor chromosome  X, 1076 genes are empty (out of 1076)\n",
      "\tfor chromosome  Y, 100 genes are empty (out of 100)\n",
      "\tfor chromosome MT, 13 genes are empty (out of 13)\n",
      "\tat least one SNP mapped to each of a total of 31803 genes (out of 33461)\n",
      "\n",
      "\n",
      "End time is 12:32:36, Wednesday 19 Mar 2025 (elapsed: 00:00:08)\n",
      "\n",
      "==========================================================================================\n",
      "Processing trait: N-mono_c...\n",
      "Welcome to MAGMA v1.10 (linux/s)\n",
      "Using flags:\n",
      "\t--annotate window=5,5\n",
      "\t--snp-loc ../Data/MAGMA/snp_locations/N-mono_c_SNPLOC.tsv\n",
      "\t--gene-loc ../Data/MAGMA/gene_locations/GRCh38_GENELOC.tsv\n",
      "\t--out ../Data/MAGMA/gene_annotations/5,5window/N-mono_c\n",
      "\n",
      "Start time is 12:32:36, Wednesday 19 Mar 2025\n",
      "\n",
      "Starting annotation...\n",
      "Reading gene locations from file ../Data/MAGMA/gene_locations/GRCh38_GENELOC.tsv... \n",
      "\tadding window: 5000bp\n",
      "\t33461 gene locations read from file\n",
      "\tchromosome  1: 3150 genes\n",
      "\tchromosome  2: 2281 genes\n",
      "\tchromosome  3: 1709 genes\n",
      "\tchromosome  4: 1353 genes\n",
      "\tchromosome  5: 1659 genes\n",
      "\tchromosome  6: 1630 genes\n",
      "\tchromosome  7: 1535 genes\n",
      "\tchromosome  8: 1318 genes\n",
      "\tchromosome  9: 1226 genes\n",
      "\tchromosome 10: 1228 genes\n",
      "\tchromosome 11: 1919 genes\n",
      "\tchromosome 12: 1761 genes\n",
      "\tchromosome 13: 666 genes\n",
      "\tchromosome 14: 1385 genes\n",
      "\tchromosome 15: 1133 genes\n",
      "\tchromosome 16: 1529 genes\n",
      "\tchromosome 17: 1894 genes\n",
      "\tchromosome 18: 662 genes\n",
      "\tchromosome 19: 2004 genes\n",
      "\tchromosome 20: 895 genes\n",
      "\tchromosome 21: 500 genes\n",
      "\tchromosome 22: 835 genes\n",
      "\tchromosome  X: 1076 genes\n",
      "\tchromosome  Y: 100 genes\n",
      "\tchromosome MT: 13 genes\n",
      "Reading SNP locations from file ../Data/MAGMA/snp_locations/N-mono_c_SNPLOC.tsv... \n",
      "\tSNPs mapped so far: 374176\n",
      "\tSNPs mapped so far: 770954\n",
      "\tSNPs mapped so far: 1158672\n",
      "\tSNPs mapped so far: 1540895\n",
      "\tSNPs mapped so far: 1898079\n",
      "\tSNPs mapped so far: 2248046\n",
      "                                                                                                 \n",
      "\t4464723 SNP locations read from file\n",
      "\tof those, 2609623 (58.45%) mapped to at least one gene\n",
      "Writing annotation to file ../Data/MAGMA/gene_annotations/5,5window/N-mono_c.genes.annot\n",
      "\tfor chromosome  1, 51 genes are empty (out of 3150)\n",
      "\tfor chromosome  2, 36 genes are empty (out of 2281)\n",
      "\tfor chromosome  4, 21 genes are empty (out of 1353)\n",
      "\tfor chromosome  5, 11 genes are empty (out of 1659)\n",
      "\tfor chromosome  6, 5 genes are empty (out of 1630)\n",
      "\tfor chromosome  7, 20 genes are empty (out of 1535)\n",
      "\tfor chromosome  8, 22 genes are empty (out of 1318)\n",
      "\tfor chromosome  9, 48 genes are empty (out of 1226)\n",
      "\tfor chromosome 10, 6 genes are empty (out of 1228)\n",
      "\tfor chromosome 11, 9 genes are empty (out of 1919)\n",
      "\tfor chromosome 13, 3 genes are empty (out of 666)\n",
      "\tfor chromosome 14, 43 genes are empty (out of 1385)\n",
      "\tfor chromosome 15, 43 genes are empty (out of 1133)\n",
      "\tfor chromosome 16, 37 genes are empty (out of 1529)\n",
      "\tfor chromosome 17, 28 genes are empty (out of 1894)\n",
      "\tfor chromosome 18, 1 gene is empty (out of 662)\n",
      "\tfor chromosome 19, 4 genes are empty (out of 2004)\n",
      "\tfor chromosome 21, 66 genes are empty (out of 500)\n",
      "\tfor chromosome 22, 16 genes are empty (out of 835)\n",
      "\tfor chromosome  X, 1076 genes are empty (out of 1076)\n",
      "\tfor chromosome  Y, 100 genes are empty (out of 100)\n",
      "\tfor chromosome MT, 13 genes are empty (out of 13)\n",
      "\tat least one SNP mapped to each of a total of 31802 genes (out of 33461)\n",
      "\n",
      "\n",
      "End time is 12:32:44, Wednesday 19 Mar 2025 (elapsed: 00:00:08)\n",
      "\n",
      "==========================================================================================\n",
      "Done\n"
     ]
    }
   ],
   "source": [
    "out_dir = MAGMA_DIR / \"gene_annotations\" / (window + \"_window\") \n",
    "out_dir.mkdir(parents=True, exist_ok=True)\n",
    "\n",
    "for snploc_file, trait in iterate_trait_files(MAGMA_DIR / \"snp_locations\", TRAITS):\n",
    "    out_file = out_dir / trait\n",
    "\n",
    "    print(f\"Processing trait: {trait}...\")\n",
    "    result = run_gene_annotation(window = window, \n",
    "                                snploc_file = snploc_file,\n",
    "                                geneloc_file = geneloc_file, \n",
    "                                out_file = out_file)\n",
    "    print(result)\n",
    "    print(\"=\" * 90)\n",
    "print(\"Done\")"
   ]
  },
  {
   "cell_type": "markdown",
   "metadata": {},
   "source": [
    "### Run batch gene analysis"
   ]
  },
  {
   "cell_type": "code",
   "execution_count": 7,
   "metadata": {},
   "outputs": [
    {
     "name": "stdout",
     "output_type": "stream",
     "text": [
      "Submitted batch 1: Submitted batch job 1214868\n",
      "Submitted batch 2: Submitted batch job 1214869\n",
      "Submitted batch 3: Submitted batch job 1214870\n",
      "Submitted batch 4: Submitted batch job 1214871\n",
      "Submitted batch 5: Submitted batch job 1214872\n",
      "Submitted batch 6: Submitted batch job 1214873\n",
      "Submitted batch 7: Submitted batch job 1214874\n",
      "Submitted batch 8: Submitted batch job 1214875\n",
      "Submitted batch 9: Submitted batch job 1214876\n",
      "Submitted batch 10: Submitted batch job 1214877\n",
      "Submitted batch 1: Submitted batch job 1214878\n",
      "Submitted batch 2: Submitted batch job 1214879\n",
      "Submitted batch 3: Submitted batch job 1214880\n",
      "Submitted batch 4: Submitted batch job 1214881\n",
      "Submitted batch 5: Submitted batch job 1214882\n",
      "Submitted batch 6: Submitted batch job 1214883\n",
      "Submitted batch 7: Submitted batch job 1214884\n",
      "Submitted batch 8: Submitted batch job 1214885\n",
      "Submitted batch 9: Submitted batch job 1214886\n",
      "Submitted batch 10: Submitted batch job 1214887\n",
      "Submitted batch 1: Submitted batch job 1214888\n",
      "Submitted batch 2: Submitted batch job 1214889\n",
      "Submitted batch 3: Submitted batch job 1214890\n",
      "Submitted batch 4: Submitted batch job 1214891\n",
      "Submitted batch 5: Submitted batch job 1214892\n",
      "Submitted batch 6: Submitted batch job 1214893\n",
      "Submitted batch 7: Submitted batch job 1214894\n",
      "Submitted batch 8: Submitted batch job 1214895\n",
      "Submitted batch 9: Submitted batch job 1214896\n",
      "Submitted batch 10: Submitted batch job 1214897\n",
      "Submitted batch 1: Submitted batch job 1214898\n",
      "Submitted batch 2: Submitted batch job 1214899\n",
      "Submitted batch 3: Submitted batch job 1214900\n",
      "Submitted batch 4: Submitted batch job 1214901\n",
      "Submitted batch 5: Submitted batch job 1214902\n",
      "Submitted batch 6: Submitted batch job 1214903\n",
      "Submitted batch 7: Submitted batch job 1214904\n",
      "Submitted batch 8: Submitted batch job 1214905\n",
      "Submitted batch 9: Submitted batch job 1214906\n",
      "Submitted batch 10: Submitted batch job 1214907\n",
      "Submitted batch 1: Submitted batch job 1214908\n",
      "Submitted batch 2: Submitted batch job 1214909\n",
      "Submitted batch 3: Submitted batch job 1214910\n",
      "Submitted batch 4: Submitted batch job 1214911\n",
      "Submitted batch 5: Submitted batch job 1214912\n",
      "Submitted batch 6: Submitted batch job 1214913\n",
      "Submitted batch 7: Submitted batch job 1214914\n",
      "Submitted batch 8: Submitted batch job 1214915\n",
      "Submitted batch 9: Submitted batch job 1214916\n",
      "Submitted batch 10: Submitted batch job 1214917\n",
      "Submitted batch 1: Submitted batch job 1214918\n",
      "Submitted batch 2: Submitted batch job 1214919\n",
      "Submitted batch 3: Submitted batch job 1214920\n",
      "Submitted batch 4: Submitted batch job 1214921\n",
      "Submitted batch 5: Submitted batch job 1214922\n",
      "Submitted batch 6: Submitted batch job 1214923\n",
      "Submitted batch 7: Submitted batch job 1214924\n",
      "Submitted batch 8: Submitted batch job 1214925\n",
      "Submitted batch 9: Submitted batch job 1214926\n",
      "Submitted batch 10: Submitted batch job 1214927\n"
     ]
    }
   ],
   "source": [
    "samples = \"N=563085\" \n",
    "n_batches = 10\n",
    "out_dir = MAGMA_DIR / \"gene_analysis\" / (window + \"_window\")\n",
    "ld_reference = Path(\"/groups/umcg-franke-scrna/tmp02/external_datasets/hg38/ref_panel_QC/30x-GRCh38-EUR\")\n",
    "\n",
    "for trait in TRAITS:\n",
    "    gene_anno_file = MAGMA_DIR / \"gene_annotations\" / (window + \"_window\") / f\"{trait}.genes.annot\"\n",
    "    pval_file = MAGMA_DIR / \"pvals\" / f\"{trait}_PVAL.txt\"\n",
    "    batch_gene_analysis(\n",
    "        trait = trait, \n",
    "        samples = samples, \n",
    "        n_batches = n_batches, \n",
    "        gene_anno_file = gene_anno_file,\n",
    "        pval_file = pval_file,\n",
    "        out_dir = out_dir,\n",
    "        reference = ld_reference,\n",
    "        mem = \"3gb\"\n",
    "    )\n",
    "    "
   ]
  },
  {
   "cell_type": "markdown",
   "metadata": {},
   "source": [
    "### Gene analysis results "
   ]
  },
  {
   "cell_type": "code",
   "execution_count": 5,
   "metadata": {},
   "outputs": [
    {
     "data": {
      "image/png": "[encoded data removed]",
      "text/plain": [
       "<Figure size 800x600 with 2 Axes>"
      ]
     },
     "metadata": {},
     "output_type": "display_data"
    }
   ],
   "source": [
    "# Initialize variables\n",
    "trait_gene_data = {}\n",
    "found_markers = {}  # For tracking marker genes for each trait\n",
    "n_genes = 1000\n",
    "\n",
    "all_marker_data = {}\n",
    "\n",
    "# Read Gene Analysis results and store gene scores\n",
    "for trait in TRAITS:\n",
    "    results_dir = MAGMA_DIR / \"gene_analysis\" / (window + \"_window\") / trait\n",
    "    found_markers[trait] = []  # Initialize an empty list for each trait's found markers\n",
    "    for file in results_dir.iterdir():\n",
    "        if file.name.endswith(\"genes.out\"):\n",
    "            with open(file, \"r\") as f:\n",
    "                f.readline()  # skip header\n",
    "                for line in f:\n",
    "                    line = line.split()\n",
    "                    z_score = float(line[7])  \n",
    "                    gene_name = line[0]\n",
    "                    \n",
    "                    # Store data for the trait\n",
    "                    if trait not in trait_gene_data:\n",
    "                        trait_gene_data[trait] = [[gene_name, z_score]]\n",
    "                    else:\n",
    "                        trait_gene_data[trait].append([gene_name, z_score])\n",
    "\n",
    "                    # Check if gene is a monocyte marker gene\n",
    "                    if gene_name in mono_marker_genes:\n",
    "                        if gene_name not in all_marker_data.keys():\n",
    "                            all_marker_data[gene_name] = {trait: z_score}\n",
    "                        else:\n",
    "                            all_marker_data[gene_name][trait] = z_score\n",
    "\n",
    "# Convert the all_marker_data dictionary to a pandas DataFrame\n",
    "marker_df = pd.DataFrame.from_dict(all_marker_data, orient=\"index\")\n",
    "\n",
    "if not marker_df.empty:\n",
    "    plt.figure(figsize=(8, 6))\n",
    "    sns.heatmap(marker_df, annot=True, cmap=\"coolwarm\", linewidths=0.5)\n",
    "    plt.title(\"Monocyte gene marker Z-scores\")\n",
    "    plt.show()\n",
    "else:\n",
    "    print(\"No marker genes found.\")"
   ]
  },
  {
   "cell_type": "code",
   "execution_count": 6,
   "metadata": {},
   "outputs": [],
   "source": [
    "# Get the top n genes based on their Z-scores for each trait\n",
    "top_genes_per_trait = {}\n",
    "for trait, genes in trait_gene_data.items():\n",
    "    top_1000_for_trait = heapq.nlargest(n_genes, genes, key=lambda x: x[1])\n",
    "    top_genes_per_trait[trait] = top_1000_for_trait"
   ]
  },
  {
   "cell_type": "code",
   "execution_count": 15,
   "metadata": {},
   "outputs": [
    {
     "data": {
      "image/png": "[encoded data removed]",
      "text/plain": [
       "<Figure size 1200x600 with 1 Axes>"
      ]
     },
     "metadata": {},
     "output_type": "display_data"
    }
   ],
   "source": [
    "# Create boxplot data\n",
    "boxplot_data = []\n",
    "label_map = {\n",
    "    \"mono_p\"   : \"Percentage\",\n",
    "    \"mono_c\"   : \"Count\",\n",
    "    \"P-mono_p\" : \"Percentage (+β)\",\n",
    "    \"P-mono_c\" : \"Count (+β)\",\n",
    "    \"N-mono_c\" : \"Count (-β)\",\n",
    "    \"N-mono_p\" : \"Percentage (-β)\",\n",
    "}\n",
    "\n",
    "labels = []\n",
    "\n",
    "# Add data for all genes' Z-scores\n",
    "for trait, genes in trait_gene_data.items():\n",
    "    z_scores_for_trait = [z_score for _, z_score in genes]  # Get Z-scores for all genes\n",
    "    \n",
    "    boxplot_data.append(z_scores_for_trait)  # Add all gene Z-scores\n",
    "    labels.append(label_map[trait])  # Label for all genes\n",
    "\n",
    "# Add data for top 1000 genes' Z-scores\n",
    "for trait, top_genes in top_genes_per_trait.items():\n",
    "    z_scores_for_trait = [z_score for _, z_score in top_genes]  # Get Z-scores for top 1000 genes\n",
    "    \n",
    "    boxplot_data.append(z_scores_for_trait)  # Add top 1000 gene Z-scores\n",
    "    labels.append(f\"{label_map[trait]} - Top {n_genes}\")  # Label for top 1000 genes\n",
    "\n",
    "# Create boxplot\n",
    "plt.figure(figsize=(12, 6))\n",
    "sns.boxplot(data=boxplot_data)\n",
    "plt.xticks(range(len(labels)), labels, rotation=45)\n",
    "plt.ylabel(\"Z-score\")\n",
    "plt.title(f\"Gene Z-scores Across Monocyte Traits\")\n",
    "plt.grid(True)\n",
    "\n",
    "plt.show()"
   ]
  },
  {
   "cell_type": "markdown",
   "metadata": {},
   "source": [
    "## scDRS geneset file"
   ]
  },
  {
   "cell_type": "code",
   "execution_count": 12,
   "metadata": {},
   "outputs": [
    {
     "name": "stdout",
     "output_type": "stream",
     "text": [
      "Geneset written to ../Data/SCDRS/genesets/N1000_mono_p-mono_c-P-mono_c-P-mono_p-N-mono_p-N-mono_c_W5,5.gs\n"
     ]
    }
   ],
   "source": [
    "gene_set_data = {}\n",
    "for trait, top_genes_data in top_genes_per_trait.items():\n",
    "    n_genes = len(top_genes_data)\n",
    "    for gene_name, z_score in top_genes_data:\n",
    "        gene_score = f\"{gene_name}:{z_score}\"                \n",
    "        if trait not in gene_set_data:\n",
    "            gene_set_data[trait] = gene_score\n",
    "        else:\n",
    "            gene_set_data[trait] += \",\" + gene_score\n",
    "\n",
    "gene_set_file = SCDRS_DIR / \"genesets\" / f\"N{n_genes}_{'-'.join(gene_set_data.keys())}_W{window}.gs\"\n",
    "pd.DataFrame(list(gene_set_data.items()), columns=[\"TRAIT\", \"GENESET\"]).to_csv(gene_set_file, sep=\"\\t\", index=False)\n",
    "print(f\"Geneset written to {gene_set_file}\")"
   ]
  },
  {
   "cell_type": "markdown",
   "metadata": {},
   "source": [
    "### Generating control geneset tests with various configurations:\n",
    "1. monocyte markers set to a very high (30) Z-score, and all other genes low Z-score.\n",
    "2. monocyte markers set to a very high (30) Z-score, and all other genes the same.\n",
    "3. All monocyte markers set to a very high (30) Z-score and added to the geneset.\n",
    "      "
   ]
  },
  {
   "cell_type": "code",
   "execution_count": 8,
   "metadata": {},
   "outputs": [
    {
     "name": "stdout",
     "output_type": "stream",
     "text": [
      "CTSS:30,FCN1:30,NEAT1:30,LYZ:30,PSAP:30,S100A9:30,AIF1:30,MNDA:30,SERPINA1:30,TYROBP:30\n",
      "CTSS:30,FCN1:30,NEAT1:30,LYZ:30,PSAP:30,S100A9:30,AIF1:30,MNDA:30,SERPINA1:30,TYROBP:30\n",
      "Geneset 1 written to ../Data/SCDRS/genesets/GS_control_1_mono_p-mono_c_5,5.gs\n",
      "Geneset 2 written to ../Data/SCDRS/genesets/GS_control_2_mono_p-mono_c_5,5.gs\n",
      "Geneset 3 written to ../Data/SCDRS/genesets/GS_control_3_mono_p-mono_c_5,5.gs\n"
     ]
    }
   ],
   "source": [
    "# Initialize dictionaries to store different control genesets\n",
    "window = \"5,5\"\n",
    "control_gs_data_1 = {}  # Markers high (30), all others low (0.1)\n",
    "control_gs_data_2 = {}  # Markers high (30), all others unchanged\n",
    "control_gs_data_3 = {}  # Markers high (30), added if missing\n",
    "\n",
    "for trait, top_genes_data in top_genes_per_trait.items():\n",
    "    # Initialize empty strings for each geneset\n",
    "    control_gs_data_1[trait] = \"\"\n",
    "    control_gs_data_2[trait] = \"\"\n",
    "    control_gs_data_3[trait] = \",\".join([f\"{gene}:30\" for gene in mono_marker_genes])\n",
    "\n",
    "    for gene_name, z_score in top_genes_data:\n",
    "        # Configuration 1: Markers high (30), all others low (0.1)\n",
    "        if gene_name in mono_marker_genes:\n",
    "            gs_1_score = f\"{gene_name}:30\"\n",
    "        else:\n",
    "            gs_1_score = f\"{gene_name}:0.1\"\n",
    "\n",
    "        if control_gs_data_1[trait]:\n",
    "            control_gs_data_1[trait] += \",\"\n",
    "        control_gs_data_1[trait] += gs_1_score\n",
    "\n",
    "        # Configuration 2: Markers high (30), all others unchanged\n",
    "        if gene_name in mono_marker_genes:\n",
    "            gs_2_score = f\"{gene_name}:30\"\n",
    "        else:\n",
    "            gs_2_score = f\"{gene_name}:{z_score}\"\n",
    "\n",
    "        if control_gs_data_2[trait]:\n",
    "            control_gs_data_2[trait] += \",\"\n",
    "        control_gs_data_2[trait] += gs_2_score\n",
    "\n",
    "        # Configuration 3: Markers high (30), added if missing\n",
    "        if not gene_name in mono_marker_genes:\n",
    "            gs_3_score = f\",{gene_name}:{z_score}\"\n",
    "            control_gs_data_3[trait] += gs_3_score\n",
    "\n",
    "for i, gs_data in enumerate([control_gs_data_1, control_gs_data_2, control_gs_data_3], start=1):\n",
    "    gs_file = SCDRS_DIR / \"genesets\" / f\"GS_control_{i}_{\"-\".join(top_genes_per_trait.keys())}_{window}.gs\"\n",
    "    pd.DataFrame(list(gs_data.items()), columns=[\"TRAIT\", \"GENESET\"]).to_csv(gs_file, sep=\"\\t\", index=False)\n",
    "    print(f\"Geneset {i} written to {gs_file}\")"
   ]
  },
  {
   "cell_type": "markdown",
   "metadata": {},
   "source": [
    "### Control Gene Sets with Differentially Expressed Genes (DEGs) Derived from Empirical Data"
   ]
  },
  {
   "cell_type": "code",
   "execution_count": 6,
   "metadata": {},
   "outputs": [
    {
     "name": "stdout",
     "output_type": "stream",
     "text": [
      "Geneset 1 written to ../Data/SCDRS/genesets/DEGS_control_1_mono_p-mono_c_5,5.gs\n",
      "Geneset 2 written to ../Data/SCDRS/genesets/DEGS_control_2_mono_p-mono_c_5,5.gs\n",
      "Geneset 3 written to ../Data/SCDRS/genesets/DEGS_control_3_mono_p-mono_c_5,5.gs\n"
     ]
    }
   ],
   "source": [
    "monocyte_degs = ['PLXDC2', 'ZEB2', 'NEAT1', 'ARHGAP26', 'FAM49A', 'IRAK3', 'LYN', 'KYNU', 'SAT1', 'LRMDA']\n",
    "\n",
    "# Initialize dictionaries to store different control genesets\n",
    "control_gs_data_1 = {}  # Markers high (30), all others low (0.1)\n",
    "control_gs_data_2 = {}  # Markers high (30), all others unchanged\n",
    "control_gs_data_3 = {}  # Markers high (30), added if missing\n",
    "\n",
    "for trait, top_genes_data in top_genes_per_trait.items():\n",
    "    # Initialize empty strings for each geneset\n",
    "    control_gs_data_1[trait] = \"\"\n",
    "    control_gs_data_2[trait] = \"\"\n",
    "    control_gs_data_3[trait] = \",\".join([f\"{gene}:30\" for gene in monocyte_degs])\n",
    "\n",
    "    for gene_name, z_score in top_genes_data:\n",
    "        # Configuration 1: Markers high (30), all others low (0.1)\n",
    "        if gene_name in monocyte_degs:\n",
    "            gs_1_score = f\"{gene_name}:30\"\n",
    "        else:\n",
    "            gs_1_score = f\"{gene_name}:0.1\"\n",
    "\n",
    "        if control_gs_data_1[trait]:\n",
    "            control_gs_data_1[trait] += \",\"\n",
    "        control_gs_data_1[trait] += gs_1_score\n",
    "\n",
    "        # Configuration 2: Markers high (30), all others unchanged\n",
    "        if gene_name in monocyte_degs:\n",
    "            gs_2_score = f\"{gene_name}:30\"\n",
    "        else:\n",
    "            gs_2_score = f\"{gene_name}:{z_score}\"\n",
    "\n",
    "        if control_gs_data_2[trait]:\n",
    "            control_gs_data_2[trait] += \",\"\n",
    "        control_gs_data_2[trait] += gs_2_score\n",
    "\n",
    "        # Configuration 3: Markers high (30), added if missing\n",
    "        if not gene_name in monocyte_degs:\n",
    "            gs_3_score = f\",{gene_name}:{z_score}\"\n",
    "            control_gs_data_3[trait] += gs_3_score\n",
    "\n",
    "for i, gs_data in enumerate([control_gs_data_1, control_gs_data_2, control_gs_data_3], start=1):\n",
    "    gs_file = SCDRS_DIR / \"genesets\" / f\"DEGS_control_{i}_{\"-\".join(top_genes_per_trait.keys())}_{window}.gs\"\n",
    "    pd.DataFrame(list(gs_data.items()), columns=[\"TRAIT\", \"GENESET\"]).to_csv(gs_file, sep=\"\\t\", index=False)\n",
    "    print(f\"Geneset {i} written to {gs_file}\")\n"
   ]
  },
  {
   "cell_type": "code",
   "execution_count": null,
   "metadata": {},
   "outputs": [],
   "source": []
  }
 ],
 "metadata": {
  "kernelspec": {
   "display_name": "Python 3 (ipykernel)",
   "language": "python",
   "name": "python3"
  },
  "language_info": {
   "codemirror_mode": {
    "name": "ipython",
    "version": 3
   },
   "file_extension": ".py",
   "mimetype": "text/x-python",
   "name": "python",
   "nbconvert_exporter": "python",
   "pygments_lexer": "ipython3",
   "version": "3.9.21"
  }
 },
 "nbformat": 4,
 "nbformat_minor": 4
}
