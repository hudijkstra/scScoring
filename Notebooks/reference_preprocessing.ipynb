{
 "cells": [
  {
   "cell_type": "markdown",
   "id": "ae41010b-ef4b-4a71-a1c0-cf44fc1b7fd1",
   "metadata": {},
   "source": [
    "# <b>Reference File Processing"
   ]
  },
  {
   "cell_type": "code",
   "execution_count": 5,
   "id": "99cb128d-add9-405a-83d8-078b3b6b3443",
   "metadata": {},
   "outputs": [],
   "source": [
    "import pandas as pd\n",
    "from pathlib import Path"
   ]
  },
  {
   "cell_type": "code",
   "execution_count": 6,
   "id": "21a4b92a-fd81-49e5-8a81-06a5ee69b8f8",
   "metadata": {},
   "outputs": [],
   "source": [
    "REF_DIR = Path(\"../Data/Reference/GRCh38\")\n",
    "PASCALX_DIR = Path(\"../Data/PascalX\")\n",
    "MAGMA_DIR = Path(\"../Data/MAGMA\")\n",
    "limix_file = REF_DIR / \"LimixAnnotationFile.txt\""
   ]
  },
  {
   "cell_type": "markdown",
   "id": "aa1775ff-77ea-42f2-af52-a14f994f052e",
   "metadata": {},
   "source": [
    "#### <b>1. Formatting Limix gene location file to MAGMA format\n",
    "The gene location file must contain at least four columns, in this order: (1) **gene ID**, (2) **chromosome**, (3) **start site**, (4) **stop site**.<br> "
   ]
  },
  {
   "cell_type": "code",
   "execution_count": null,
   "id": "1a6f55ae-cbfd-45f1-ab16-f009c40bd3da",
   "metadata": {},
   "outputs": [],
   "source": [
    "limix_file_data = pd.read_csv(limix_file, sep=\"\\t\")\n",
    "print(limix_file_data.head())"
   ]
  },
  {
   "cell_type": "code",
   "execution_count": null,
   "id": "c3577640-da61-473e-a6c2-186181c9f87b",
   "metadata": {},
   "outputs": [],
   "source": [
    "print(limix_file_data[\"chromosome\"].unique())"
   ]
  },
  {
   "cell_type": "code",
   "execution_count": null,
   "id": "e985a157-8fea-41c6-89e9-29c78932cbda",
   "metadata": {},
   "outputs": [],
   "source": [
    "# Format and writ to file\n",
    "file_loc = MAGMA_DIR / \"gene_locations\" / \"GRCh38_GENELOC.tsv\"\n",
    "limix_file_data[ [ \"feature_id\", \"chromosome\", \"start\", \"end\"] ].to_csv(file_loc, sep=\"\\t\", header=None, index=None)\n",
    "print(f\"File written to {file_loc}\")"
   ]
  },
  {
   "cell_type": "markdown",
   "id": "2ec5207c-9705-4d11-809c-679b9a181d39",
   "metadata": {},
   "source": [
    "#### <b>2. Adding strand information to Limix file"
   ]
  },
  {
   "cell_type": "code",
   "execution_count": 7,
   "id": "c5084bf4-9363-45e3-a466-4717afbf2dfa",
   "metadata": {},
   "outputs": [
    {
     "name": "stdout",
     "output_type": "stream",
     "text": [
      "    feature_id chromosome  start     end             ENSG         biotype\n",
      "0  MIR1302-2HG          1  29554   31109  ENSG00000243485         lincRNA\n",
      "1      FAM138A          1  34554   36081  ENSG00000237613         lincRNA\n",
      "2        OR4F5          1  65419   71585  ENSG00000186092  protein_coding\n",
      "3   AL627309.1          1  89295  133723  ENSG00000238009         lincRNA\n",
      "4   AL627309.3          1  89551   91105  ENSG00000239945         lincRNA\n"
     ]
    }
   ],
   "source": [
    "# Load Limix annotation file\n",
    "limix_file_data = pd.read_csv(limix_file, sep=\"\\t\")\n",
    "print(limix_file_data.head())"
   ]
  },
  {
   "cell_type": "code",
   "execution_count": 10,
   "id": "46e9295d-9fb9-4a0a-8f0f-e890392b46c9",
   "metadata": {},
   "outputs": [
    {
     "name": "stdout",
     "output_type": "stream",
     "text": [
      "              ENSG  Strand Gene name\n",
      "0  ENSG00000210049       1     MT-TF\n",
      "1  ENSG00000211459       1   MT-RNR1\n",
      "2  ENSG00000210077       1     MT-TV\n",
      "3  ENSG00000210082       1   MT-RNR2\n",
      "4  ENSG00000209082       1    MT-TL1\n"
     ]
    }
   ],
   "source": [
    "# Load strand information\n",
    "strand_file = PASCALX_DIR / \"resources\" / \"strand_info.txt\"\n",
    "strand_data = pd.read_csv(strand_file, sep=\"\\t\").rename(columns={\"Gene stable ID\": \"ENSG\"})\n",
    "print(strand_data.head())"
   ]
  },
  {
   "cell_type": "code",
   "execution_count": 16,
   "id": "4c2f23b0-5d08-474c-a38a-3a4ad2f28b84",
   "metadata": {},
   "outputs": [
    {
     "name": "stdout",
     "output_type": "stream",
     "text": [
      "Missing strand values: 1145\n",
      "\n",
      "    feature_id chromosome  start     end             ENSG         biotype  \\\n",
      "0  MIR1302-2HG          1  29554   31109  ENSG00000243485         lincRNA   \n",
      "1      FAM138A          1  34554   36081  ENSG00000237613         lincRNA   \n",
      "2        OR4F5          1  65419   71585  ENSG00000186092  protein_coding   \n",
      "3   AL627309.1          1  89295  133723  ENSG00000238009         lincRNA   \n",
      "4   AL627309.3          1  89551   91105  ENSG00000239945         lincRNA   \n",
      "\n",
      "   Strand  \n",
      "0     1.0  \n",
      "1    -1.0  \n",
      "2     1.0  \n",
      "3     NaN  \n",
      "4    -1.0  \n"
     ]
    }
   ],
   "source": [
    "# Merge on ENSG (keeping all genes in df_main)\n",
    "df_merged = limix_file_data.merge(strand_data[['ENSG', 'Strand']], on=\"ENSG\", how=\"left\")\n",
    "print(f'Missing strand values: {df_merged[\"Strand\"].isnull().sum()}\\n')\n",
    "print(df_merged.head())"
   ]
  },
  {
   "cell_type": "code",
   "execution_count": 17,
   "id": "0c307f20-5a5c-4d95-8700-29624efa164f",
   "metadata": {},
   "outputs": [
    {
     "name": "stdout",
     "output_type": "stream",
     "text": [
      "     feature_id chromosome     start       end             ENSG  \\\n",
      "3    AL627309.1          1     89295    133723  ENSG00000238009   \n",
      "17   AL645608.3          1    911435    914948  ENSG00000230699   \n",
      "18   AL645608.5          1    914171    914971  ENSG00000241180   \n",
      "150  AL365255.1          1   5561709   5668295  ENSG00000236948   \n",
      "241  AL109811.4          1  11012662  11030528  ENSG00000277726   \n",
      "\n",
      "            biotype  Strand  \n",
      "3           lincRNA     NaN  \n",
      "17          lincRNA     NaN  \n",
      "18          lincRNA     NaN  \n",
      "150         lincRNA     NaN  \n",
      "241  protein_coding     NaN  \n"
     ]
    }
   ],
   "source": [
    "# Create a DataFrame with rows where strand info is missing\n",
    "df_missing_strand = df_merged[df_merged[\"Strand\"].isnull()]\n",
    "print(df_missing_strand.head())"
   ]
  },
  {
   "cell_type": "code",
   "execution_count": 24,
   "id": "b2663ac1-9d6e-4930-b86e-8b3e9b0955c8",
   "metadata": {},
   "outputs": [
    {
     "name": "stdout",
     "output_type": "stream",
     "text": [
      "File saved: ../Data/PascalX/resources/limix_missing_strand.tsv\n"
     ]
    }
   ],
   "source": [
    "# Write missing data file\n",
    "missing_strand_file = PASCALX_DIR / \"resources\" / 'limix_missing_strand.tsv'\n",
    "df_missing_strand.to_csv(missing_strand_file, sep='\\t', index=False)\n",
    "print(f\"File saved: {missing_strand_file}\")"
   ]
  },
  {
   "cell_type": "code",
   "execution_count": 23,
   "id": "1ff3c770-5c40-4c09-a0a1-532241dd935c",
   "metadata": {},
   "outputs": [
    {
     "name": "stdout",
     "output_type": "stream",
     "text": [
      "File saved: ../Data/PascalX/resources/limix_annotation_strand.tsv\n"
     ]
    }
   ],
   "source": [
    "# Replace NaN values in 'Strand' with 1\n",
    "df_merged['Strand'] = df_merged['Strand'].fillna(1).astype(int)\n",
    "\n",
    "# Define output file path\n",
    "merged_strand_file = PASCALX_DIR / \"resources\" / \"limix_annotation_strand.tsv\"\n",
    "\n",
    "# Write the DataFrame to a TSV file\n",
    "df_merged.to_csv(merged_strand_file, sep='\\t', index=False)\n",
    "\n",
    "print(f\"File saved: {merged_strand_file}\")"
   ]
  },
  {
   "cell_type": "code",
   "execution_count": null,
   "id": "215ce4ce-bfd9-4b82-b6bb-87b3da03e012",
   "metadata": {},
   "outputs": [],
   "source": []
  }
 ],
 "metadata": {
  "kernelspec": {
   "display_name": "Python 3 (ipykernel)",
   "language": "python",
   "name": "python3"
  },
  "language_info": {
   "codemirror_mode": {
    "name": "ipython",
    "version": 3
   },
   "file_extension": ".py",
   "mimetype": "text/x-python",
   "name": "python",
   "nbconvert_exporter": "python",
   "pygments_lexer": "ipython3",
   "version": "3.9.21"
  }
 },
 "nbformat": 4,
 "nbformat_minor": 5
}
